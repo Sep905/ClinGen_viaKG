{
 "cells": [
  {
   "cell_type": "code",
   "execution_count": 1,
   "id": "f416c36c",
   "metadata": {},
   "outputs": [],
   "source": [
    "import pandas as pd\n",
    "import numpy as np\n",
    "from tqdm import tqdm\n",
    "import matplotlib.pyplot as plt\n",
    "import seaborn as sb\n",
    "from typing import List\n",
    "import loinchpo \n",
    "import re"
   ]
  },
  {
   "cell_type": "code",
   "execution_count": null,
   "id": "f7b6fbc5",
   "metadata": {},
   "outputs": [],
   "source": []
  },
  {
   "cell_type": "code",
   "execution_count": 3,
   "id": "861dcba5",
   "metadata": {},
   "outputs": [],
   "source": [
    "# read the PrimeKG node file\n",
    "nodes = pd.read_csv(\"./PrimeKG.csv\")\n",
    "\n",
    "# read loinc2hpo annotation file\n",
    "annotation_file = pd.read_csv(\"./loinc2hpo-annotations.tsv\",sep=\"\\t\")\n",
    "annotations = loinchpo.AnnotationParser.parse_annotations(annotation_file)\n",
    "\n",
    "\n",
    "\n",
    "# load dataset with clinical features and label\n",
    "dataset = pd.read_excel(\"./dataSet.xlsx\",dtype='object')\n",
    "\n",
    "# load dataset with additional info for some variables\n",
    "df_info_fumo = pd.read_excel('./T0.df_smoking_habits.xlsx\")\n",
    "df_phq9 = pd.read_excel(\"./T0.df_info_phq9.xlsx\")\n",
    "df_disease = pd.read_excel(\"./df_info_patologies.xlsx\")\n",
    "df_info_statins = pd.read_excel(\"./T0.df_statins.xlsx\")\n",
    "df_info_predimed = pd.read_excel(\"./T0.df_predimed.xlsx\")\n",
    "\n",
    "\n",
    "# gene expression\n",
    "gene_expression = pd.read_csv(\"./RawCounts.samples.txt\",sep=\"\\t\")"
   ]
  },
  {
   "cell_type": "code",
   "execution_count": null,
   "id": "4e94c699",
   "metadata": {},
   "outputs": [],
   "source": []
  },
  {
   "cell_type": "code",
   "execution_count": null,
   "id": "8fec6f11",
   "metadata": {},
   "outputs": [],
   "source": []
  },
  {
   "cell_type": "markdown",
   "id": "4d78194b",
   "metadata": {},
   "source": [
    "# Map the clinical features to phenotypes, drug, disease and exposure nodes of PrimeKG"
   ]
  },
  {
   "cell_type": "code",
   "execution_count": 6,
   "id": "b73cfdea",
   "metadata": {},
   "outputs": [],
   "source": [
    "# create the dictionary with name exame: loinc codes\n",
    "\n",
    "name_exam_LOINC = {\"Systolic_blood_pressure\":'8480-6', 'Diastolic_blood_pressure':'8462-4',\n",
    "                  \"Heart_rate\":'8867-4', 'Oxygen_saturation':'20564-1',\n",
    "                  \"Leukocytes\":'26464-8', \"Erythrocytes\":'789-8', \"Haemoglobin\":'718-7','Haematocrit':'4544-3',\n",
    "                  \"MCV\":'787-2', \"MCH\":'785-6', \"MCHC\":\"786-4\" , \"RDW\":\"788-0\", \"Platelets\":'26515-7',\n",
    "                   'CRP':'1988-5', 'hs_CRP':'30522-7',\"MPV\":\"32623-1\", \n",
    "                   \"Basophils_#\":\"26444-0\", \"Neutrophils_#\":'26499-4',\n",
    "                  'Lymphocytes_#': '26474-7', 'Monocytes_#':'26484-6', 'Eosinophils_#':'26449-9',\n",
    "                  'Blood_sugar':'2339-0', 'Uric_acid':'3084-1', \n",
    "                   'GGT':'2324-2', \"Total_bilirubin\":'1975-2',\n",
    "                  'hsTnI':'42757-5', 'Triglycerides':'2571-8', \"Total_cholesterol\":'2093-3',\n",
    "                  \"HDL_cholesterol\":'2085-9', 'LDL_cholesterol':'2089-1', \n",
    "                  'HbA1c_IFCC':'4548-4'}\n",
    "\n",
    "name_exam_normal_value = {\"Systolic_blood_pressure\":[120], 'Diastolic_blood_pressure':[80],\n",
    "                          \"Heart_rate\":[60,100], \n",
    "                          'Oxygen_saturation':[95, 98],\n",
    "                          \"Leukocytes\":[5, 10], \n",
    "                          \"Erythrocytes\":{1:[4.7, 6.1], 0:[4.2, 5.4]}, \n",
    "                          \"Haemoglobin\":{1:[14, 18], 0:[12.0, 16.0]},\n",
    "                          'Haematocrit':{1:[42, 52], 0:[37, 47]},\n",
    "                          \"MCV\":[80.0, 95], \n",
    "                          \"MCH\": [27 , 31], \n",
    "                          \"MCHC\": [32, 36] , \n",
    "                          \"RDW\":[11,14.5], \n",
    "                          \"Platelets\":[150, 400], \n",
    "                          \"CRP\":[1],    \"hs_CRP\":[1],\n",
    "                          \"MPV\":[7.4, 10.4],\n",
    "                          \"Basophils_#\":[0.025,0.1], \"Neutrophils_#\":[2.5,8],\n",
    "                          'Lymphocytes_#': [1, 4], 'Monocytes_#':[0.1,0.7], 'Eosinophils_#':[0.05,0.5],\n",
    "                          'Blood_sugar':[74,106], \n",
    "                          'Uric_acid':{1:[4.0,7], 0:[2.7, 6]}, \n",
    "                          'GGT':{1:[8, 38], \"F_<45\":[5, 27]}, \"Total_bilirubin\":[0.3, 1],\n",
    "                          'hsTnI':{1:[36], 0:[15]}, 'Triglycerides':{1:[40, 160], 0:[35, 135]}, \n",
    "                          \"Total_cholesterol\":[50, 200],\n",
    "                          \"HDL_cholesterol\":{1:[45], 0:[55]}, 'LDL_cholesterol':[130],\n",
    "                          'HbA1c_IFCC':[20,38]}\n",
    "\n",
    "\n",
    "# create the dictionary name: hpo phenotype for the name of 'exams' without a loinc code\n",
    "name_exam_hpo = {\"BMI >= 25, <= 29.9\" : 'Overweight', \n",
    "                 \"BMI >= 30, <= 34.9\" : 'Class I obesity',\n",
    "                \"BMI >= 35, <= 39.9\" : 'Class II obesity', \n",
    "                 \"BMI >= 40\" : 'Class III obesity'}\n",
    "\n",
    "\n",
    "# risk factors\n",
    "name_categorical_disaese_or_hpo = {\"Family_history_of_cardiovascular_disease\": ['Family history of heart disease'],\n",
    "                            \"Family_history_of_cerebrovascular_disease\":['Family history of cerebrovascular disease'],\n",
    "                                   'Hypertension':['hypertension'], \n",
    "                                   'Diabetes_mellitus':['diabetes mellitus (disease)',\"type 2 diabetes mellitus\"],\n",
    "                                   'Hypercholesterolemia':['Hypercholesterolemia'], \n",
    "                                   'Anaemia':['anemia (disease)','deficiency anemia'],\n",
    "                                   'Thrombophilia':['thrombophilia'],\n",
    "                                  'Chronic kidney disease':['Chronic kidney disease']}\n",
    "\n",
    "name_drug_drugbank_entities = {'NOA':['Apixaban','Dabigatran etexilate','Dabigatran', 'Edoxaban','Rivaroxaban','Betrixaban'],\n",
    "                     'Beta_blockers':['Metoprolol','Atenolol','Propranolol','Labetalol','Carvedilol','Nebivolol','Arotinolol',\n",
    "                        'Penbutolol','Nadolol','Esmolol','Betaxolol','Timolol','Sotalol','Carteolol','Alprenolol',\n",
    "                        'Pindolol','Acebutolol','Bevantolol','Practolol','Oxprenolol','Celiprolol','Bopindolol',\n",
    "                        'Bupranolol','Indenolol','Talinolol','Landiolol','Esatenolol','Cloranolol','Mepindolol',\n",
    "                        'Epanolol','Tertatolol','Bisoprolol','Dexpropranolol'],\n",
    "                      'ACE_Inhibitors':['Enalapril','Quinapril','Captopril','Benazepril','Ramipril','Perindopril',\n",
    "                         'Trandolapril','Fosinopril','Moexipril','Lisinopril','Cilazapril','Spirapril',\n",
    "                         'Epicaptopril','Temocapril','Zofenopril','Imidapril','Delapril'],\n",
    "                      'Sartans':['Losartan','Irbesartan','Candesartan cilexetil','Candesartan','Tasosartan',\n",
    "                                'Valsartan','Telmisartan','Olmesartan','Eprosartan','Forasartan','Saprisartan',\n",
    "                                'Azilsartan medoxomil','Fimasartan'],\n",
    "                      'Diuretics':['Conivaptan','Tolvaptan','Bumetanide','Furosemide','Bendroflumethiazide','Metolazone',\n",
    "                         'Cyclopenthiazide','Chlorthalidone','Mebutizide','Epitizide',\n",
    "                         'Trichlormethiazide','Hydrochlorothiazide','Triamterene','Amiloride','Eplerenone',\n",
    "                         'Canrenone','Canrenoic acid','Spironolactone','Muzolimine','Tienilic acid',\n",
    "                         'Etacrynic acid','Torasemide','Piretanide','Bumetanide','Furosemide','Cicletanine',\n",
    "                         'Theobromine','Mersalyl','Clofenamide','Mefruside','Chlorthalidone','Clopamide',\n",
    "                         'Quinethazone','Meticrane','Xipamide','Indapamide','Clorexolone','Fenquizone','Cyclothiazide',\n",
    "                         'Methyclothiazide','Polythiazide','Chlorothiazide','Hydroflumethiazide'],\n",
    "                      'Nitrates':['Nitrate'], \n",
    "                      'Calcium_antagonists_dihydropyridines':['Amlodipine','Nifedipine','Lidoflazine','Levamlodipine',\n",
    "                                                             'Clevidipine','Benidipine','Cilnidipine','Lercanidipine',\n",
    "                                                             'Barnidipine','Manidipine','Nilvadipine','Lacidipine','Nisoldipine',\n",
    "                                                             'Nitrendipine','Nimodipine','Nicardipine','Isradipine',\n",
    "                                                             'Felodipine'],\n",
    "                      'Calcium_antagonists_not_dihydropyridines':['Bepridil','Diltiazem','Verapamil',\n",
    "                                'Gallopamil','Fendiline','Mibefradil'],\n",
    "                      'ASA':['Acetylsalicylic acid'], 'Clopidogrel':['Clopidogrel'], 'Warfarin':['Warfarin'],\n",
    "                      'Oral_hypoglycemics':['Acarbose','Acetohexamide','Alogliptin','Benfluorex','Buformin',\n",
    "                                           'Canagliflozin','Carbutamide','Chlorpropamide','Dapagliflozin',\n",
    "                                           'Empagliflozin','Evogliptin','Gemigliptin','Glibornuride','Gliclazide',\n",
    "                                           'Glimepiride','Glipizide','Gliquidone','Glisoxepide','Glyburide',\n",
    "                                           'Glymidine','Linagliptin','Metahexamide','Metformin','Miglitol',\n",
    "                                           'Mitiglinide','Nateglinide','Phenformin','Pioglitazone','Repaglinide',\n",
    "                                           'Rosiglitazone','Saxagliptin','Sitagliptin','Tolazamide','Tolbutamide',\n",
    "                                           'Troglitazone','Vildagliptin','Voglibose'],\n",
    "                      'Insulin':['Insulin human'], \n",
    "                      'Anxiolytic_Antidepressant':['Paroxetine','Sertraline', 'Citalopram','Escitalopram','Fluoxetine',\n",
    "                                                   'Fluvoxamine','Dapoxetine','Imipramine','Clomipramine','Trimipramine',\n",
    "                                                   'Amitriptyline','Butriptyline','Doxepin','Dosulepin','Desipramine',\n",
    "                                                   'Nortriptyline','Protriptyline','Nialamide','Phenelzine','Tranylcypromine',\n",
    "                                                   'Toloxatone','Venlafaxine','Duloxetine','Mirtazapine','Reboxetine',\n",
    "                                                  'Bupropion','Trazodone','Agomelatine','Lithium carbonate','Carbamazepine','Valproic acid',\n",
    "                                                  'Diazepam','Nordazepam','Delorazepam','Chlordiazepoxide','Clorazepic acid',\n",
    "                                                  'Clobazam','Prazepam','Halazepam','Medazepam','Pinazepam','Tofisopam',\n",
    "                                                  'Ketazolam','Lorazepam','Oxazepam','Camazepam','Loprazolam','Alprazolam',\n",
    "                                                  'Estazolam','Lormetazepam','Temazepam','Midazolam','Triazolam','Adinazolam',\n",
    "                                                  'Brotizolam','Etizolam','Clotiazepam','Doxefazepam'],\n",
    "                      'n_3_PUFA':['Omega-3 fatty acids'], 'Ezetimibe':['Ezetimibe']  }\n",
    "\n",
    "# for statins we know the specific molecule, so 1 - 1 mapping with patients\n",
    "name_drug_drugbank_entities_statin = {'Statins':['Atorvastatin','Lovastatin','Rosuvastatin','Simvastatin','Pravastatin']}\n",
    "\n",
    "\n",
    "# NOTE: we know the specific disease for each patient, so 1 - 1 mapping with patients\n",
    "disease_name_1to1_mapped_entities = {'Diseases_of_esophagus':['gastroesophageal reflux disease','esophagitis (disease)'],\n",
    "                                     'Upper_gastrointestinal_congenital_anomalies':['hiatus hernia (disease)'],\n",
    "                               'Intervertebral_disc_disorders':['cervical disc degenerative disorder',\n",
    "                                                                'intervertebral disc degenerative disorder'],\n",
    "                                'Psoriasis_and_related_disorders':['psoriasis'],\n",
    "                                'Chronic_airway_obstruction':['chronic obstructive pulmonary disease'],\n",
    "                                'Asthma':['allergic asthma','intrinsic asthma'],\n",
    "                                'Nontoxic_nodular_goiter':['multinodular goiter','nodular goiter'],\n",
    "                                     'Depression':['mixed anxiety and depressive disorder'],\n",
    "                                     'Sleep_disorders':['obstructive sleep apnea syndrome'],\n",
    "                                     'Hyperplasia_of_prostate':['benign prostatic hyperplasia (disease)'],\n",
    "                                     'Gastritis_and_duodenitis':['gastritis','chronic atrophic gastritis'],\n",
    "                                     'Viral_hepatitis':['hepatitis B virus infection','hepatitis C virus infection'],\n",
    "                                     'Osteoporosis_osteopenia_and_pathological_fracture':['osteoporosis'],\n",
    "                                     'Thyroiditis':['Hashimoto thyroiditis','thyroiditis (disease)'],\n",
    "                                     'Hypothyroidism':['hypothyroidism'],\n",
    "                                     'Chronic_liver_disease_and_cirrhosis':['fatty liver disease'],\n",
    "                                     'Effects_of_other_external_causes':['drug allergy'],\n",
    "                                     'Hereditary_hemolytic_anemias':['favism','beta thalassemia','alpha thalassemia'],\n",
    "                                     'Cholelithiasis_and_cholecystitis':['cholelithiasis','nephrolithiasis'],\n",
    "                                     'Allergic_rhinitis':['allergic rhinitis'],\n",
    "                                     'Glaucoma':['glaucoma'],\n",
    "                                     'Thyrotoxicosis_with_or_without_goiter':['Graves disease'],\n",
    "                                     'Parkinsons_disease':['Parkinson disease'],\n",
    "                                     'Diverticulosis_and_diverticulitis':['diverticulitis of colon'],\n",
    "                                     'Migraine':['migraine disorder','migraine with aura'],\n",
    "                                     'Other_diseases_of_blood_and_blood_forming_organs':['congenital factor V deficiency',\n",
    "                                                                             'congenital prothrombin deficiency'],\n",
    "                                     'Other_disorders_of_metabolism':['Gilbert syndrome',\n",
    "                                                                     'pure mitochondrial myopathy'],\n",
    "                                     'Nonspecific_findings_on_examination_of_blood':['Hyperuricemia',\n",
    "                                                                     'Increased circulating ferritin concentration'],\n",
    "                                     'Disorders_of_protein_plasma_amino_acid_transport_and_metabolism':['homocystinuria due to methylene tetrahydrofolate reductase deficiency']\n",
    "                                    }\n",
    "\n",
    "\n",
    "def annotate_patients_from_clinical_variables(name_exam_LOINC,name_exam_normal_value,\n",
    "                                              patients_clinical_feature_dataset, annotations,\n",
    "                                             include_normal):\n",
    "    regex = \"^0+(?!$)\"\n",
    "    dictionary_patient_list_annotation = {}\n",
    "    \n",
    "    lab_exam_with_normal_hpo_as_mean_lower_high = [\"Systolic_blood_pressure\", \"Diastolic_blood_pressure\" , \n",
    "                            \"Total_cholesterol\" ,\"LDL_cholesterol\", \"HDL_cholesterol\",\n",
    "                           \"Heart_rate\" ,\"Leukocytes\",\"MCV\" ,\"MCH\" ,\"MCHC\" ,\"Platelets\"  ,\n",
    "                            \"MPV\" ,\"Basophils_#\" ,\"Neutrophils_#\" ,\"Monocytes_#\" ,\n",
    "                            \"Eosinophils_#\" ,\"Blood_sugar\" ,\"HbA1c_IFCC\" ,\"Oxygen_saturation\",\n",
    "                           \"Erythrocytes\", \"Haemoglobin\", \"Haematocrit\", \"Uric_acid\"]\n",
    "    \n",
    "    \n",
    "    for index,row in tqdm(patients_clinical_feature_dataset.iterrows()):\n",
    "        list_annotations_patient_i = []\n",
    "        \n",
    "        ################### lab and other exams ###################\n",
    "        \n",
    "        # BMI to hpo phenotype\n",
    "        if (row['BMI'] >= 25 ) and (row['BMI'] <= 29.9 ):\n",
    "            list_annotations_patient_i.append(['Overweight'])\n",
    "            list_annotations_patient_i.append(['Increased body mass index'])\n",
    "        elif (row['BMI'] >= 30 ) and (row['BMI'] <= 34.9 ):\n",
    "            list_annotations_patient_i.append(['Class I obesity'])\n",
    "            list_annotations_patient_i.append(['Increased body mass index'])\n",
    "        elif (row['BMI'] >= 35 ) and (row['BMI'] <= 39.9 ):\n",
    "            list_annotations_patient_i.append(['Class II obesity'])\n",
    "            list_annotations_patient_i.append(['Increased body mass index'])\n",
    "        elif (row['BMI'] >= 40 ):\n",
    "            list_annotations_patient_i.append(['Class III obesity'])\n",
    "            list_annotations_patient_i.append(['Increased body mass index'])\n",
    "        elif (row['BMI'] < 18.5 ):\n",
    "            list_annotations_patient_i.append(['Increased body weight'])\n",
    "            list_annotations_patient_i.append(['Decreased body mass index'])\n",
    "        else:\n",
    "            if include_normal:\n",
    "                list_annotations_patient_i.append(['Decreased body weight','Increased body weight'])\n",
    "            else:\n",
    "                pass\n",
    "\n",
    "        \n",
    "        if (row['Sex'] == 1):\n",
    "            if (row['Abdominal_circumference']/row['Pelvis_circumference'])>=0.9:\n",
    "                list_annotations_patient_i.append(['Increased waist to hip ratio'])\n",
    "        elif (row['Sex'] == 0):\n",
    "            if (row['Abdominal_circumference']/row['Pelvis_circumference'])>=0.85:\n",
    "                list_annotations_patient_i.append(['Increased waist to hip ratio'])\n",
    "            \n",
    "\n",
    "        # lab exams to hpo with loinc2hpo annotations\n",
    "        for lab_exam in name_exam_LOINC.keys():\n",
    "            lab_exam_value = row[lab_exam]\n",
    "            lab_exam_loinc_code = name_exam_LOINC[lab_exam]\n",
    "            lab_exam_normal_range = name_exam_normal_value[lab_exam]\n",
    "            \n",
    "            ## transform the numerical value to discrete by looking at the normal range\n",
    "            \n",
    "            # normal value is defined by a number \n",
    "            if (lab_exam == \"Systolic_blood_pressure\" or \n",
    "                lab_exam == \"Diastolic_blood_pressure\" or \n",
    "                lab_exam == \"LDL_cholesterol\"):\n",
    "                \n",
    "                if lab_exam_value<lab_exam_normal_range[0]:\n",
    "                    lab_exam_categorical_value = \"L\"\n",
    "                    \n",
    "                elif lab_exam_value>lab_exam_normal_range[0]:\n",
    "                    lab_exam_categorical_value = \"H\"\n",
    "                    \n",
    "                else:\n",
    "                    lab_exam_categorical_value = \"N\"\n",
    "                    \n",
    "                    \n",
    "            if lab_exam == \"HDL_cholesterol\":\n",
    "                lab_exam_normal_range = lab_exam_normal_range[row['Sex']]\n",
    "                \n",
    "                if lab_exam_value<lab_exam_normal_range[0]:\n",
    "                    lab_exam_categorical_value = \"L\"\n",
    "                    \n",
    "                elif lab_exam_value>lab_exam_normal_range[0]:\n",
    "                    lab_exam_categorical_value = \"H\"\n",
    "                \n",
    "                else:\n",
    "                    lab_exam_categorical_value = \"N\"\n",
    "                   \n",
    "            # lab values with a range [min, max]\n",
    "            if (lab_exam == \"Heart_rate\" or \n",
    "                  lab_exam == \"Leukocytes\" or\n",
    "                  lab_exam == \"MCV\" or \n",
    "                  lab_exam == \"MCH\" or \n",
    "                  lab_exam == \"MCHC\" or\n",
    "                  lab_exam == \"Platelets\"  or\n",
    "                  lab_exam == \"MPV\" or \n",
    "                  lab_exam == \"Basophils_#\" or \n",
    "                  lab_exam == \"Neutrophils_#\" or \n",
    "                  lab_exam == \"Lymphocytes_#\" or \n",
    "                  lab_exam == \"Monocytes_#\" or \n",
    "                  lab_exam == \"Eosinophils_#\" or\n",
    "                  lab_exam == \"Blood_sugar\" or \n",
    "                  lab_exam == \"HbA1c_IFCC\" or \n",
    "                  lab_exam == \"Oxygen_saturation\" or\n",
    "                  lab_exam == \"Total_cholesterol\"):\n",
    "            \n",
    "                if lab_exam_value<lab_exam_normal_range[0]:\n",
    "                    lab_exam_categorical_value = \"L\"\n",
    "\n",
    "                elif lab_exam_value>lab_exam_normal_range[1]:\n",
    "                    lab_exam_categorical_value = \"H\"\n",
    "                    \n",
    "                else:\n",
    "                    lab_exam_categorical_value = \"N\"\n",
    "            \n",
    "            \n",
    "            if (lab_exam == \"Erythrocytes\" or \n",
    "                lab_exam == \"Haemoglobin\" or \n",
    "                lab_exam == \"Haematocrit\" or \n",
    "                lab_exam == \"Uric_acid\" or \n",
    "                lab_exam == \"Triglycerides\"):\n",
    "                \n",
    "                lab_exam_normal_range = lab_exam_normal_range[row['Sex']]\n",
    "                \n",
    "                if lab_exam_value<lab_exam_normal_range[0]:\n",
    "                    lab_exam_categorical_value = \"L\"\n",
    "\n",
    "                elif lab_exam_value>lab_exam_normal_range[1]:\n",
    "                    lab_exam_categorical_value = \"H\"\n",
    "                \n",
    "                else:\n",
    "                    lab_exam_categorical_value = \"N\"\n",
    "               \n",
    "            # normal value is <=\n",
    "            if (lab_exam == \"CRP\" or \n",
    "                lab_exam==\"hs_CRP\" or \n",
    "                lab_exam == \"hsTnI\" or \n",
    "                lab_exam == \"RDW\" or \n",
    "                lab_exam == \"GGT\" or \n",
    "                lab_exam == \"Total_bilirubin\"):\n",
    "                \n",
    "                if lab_exam == \"CRP\" or lab_exam==\"hs_CRP\":\n",
    "                    lab_exam_normal_range = lab_exam_normal_range[0]\n",
    "                    \n",
    "                    if lab_exam_value>lab_exam_normal_range:\n",
    "                        lab_exam_categorical_value = \"H\"\n",
    "                    else:\n",
    "                        lab_exam_categorical_value = \"N\"\n",
    "                    \n",
    "                \n",
    "                elif lab_exam == \"hsTnI\":\n",
    "                    lab_exam_normal_range = lab_exam_normal_range[row['Sex']][0]\n",
    "                    \n",
    "                    if lab_exam_value>lab_exam_normal_range:\n",
    "                        lab_exam_categorical_value = \"H\"\n",
    "                    else:\n",
    "                        continue\n",
    "                        \n",
    "                elif lab_exam == \"Total_bilirubin\":\n",
    "                    lab_exam_normal_range = lab_exam_normal_range[1]\n",
    "                    \n",
    "                    if lab_exam_value>lab_exam_normal_range:\n",
    "                        lab_exam_categorical_value = \"H\"\n",
    "                    elif lab_exam_value<lab_exam_normal_range:\n",
    "                        lab_exam_categorical_value = \"L\"\n",
    "                    else:\n",
    "                        lab_exam_categorical_value = \"N\"\n",
    "                \n",
    "                elif lab_exam == \"RDW\":\n",
    "                    lab_exam_normal_range = lab_exam_normal_range[1]\n",
    "                    \n",
    "                    if lab_exam_value>lab_exam_normal_range:\n",
    "                        lab_exam_categorical_value = \"H\"\n",
    "                    else:\n",
    "                        continue\n",
    "\n",
    "                elif lab_exam == \"GGT\":\n",
    "                    if (row['Sex'] == 1) or (row['Sex'] == 0 and row['Age']>=45):\n",
    "                        lab_exam_normal_range = lab_exam_normal_range[1][1]\n",
    "                    else: \n",
    "                        lab_exam_normal_range = lab_exam_normal_range['F_<45'][1]\n",
    "                        \n",
    "                    if lab_exam_value>lab_exam_normal_range:\n",
    "                        lab_exam_categorical_value = \"H\"\n",
    "                    else:\n",
    "                        continue\n",
    "                \n",
    "           \n",
    "            # make the query with the annotations\n",
    "            \n",
    "            # if normal value included -> add both the lower and the higher annotation, the embedding will be the mean\n",
    "            if include_normal == True:\n",
    "\n",
    "                # normal value for mean\n",
    "                if (lab_exam in lab_exam_with_normal_hpo_as_mean_lower_high) and (lab_exam_categorical_value==\"N\"):\n",
    "\n",
    "                    query_L = loinchpo.Query(lab_exam_loinc_code, \"L\")\n",
    "                    resolver_L = loinchpo.QueryResolver(annotations)\n",
    "                    hpo_term_L = resolver_L.resolve(query_L)\n",
    "                    hpo_term_L = str(re.sub(regex, \"\", hpo_term_L.split(\":\")[1]) )\n",
    "\n",
    "                    query_H = loinchpo.Query(lab_exam_loinc_code, \"H\")\n",
    "                    resolver_H = loinchpo.QueryResolver(annotations)\n",
    "                    hpo_term_H = resolver_H.resolve(query_H)\n",
    "                    hpo_term_H = str(re.sub(regex, \"\", hpo_term_H.split(\":\")[1]) )\n",
    "\n",
    "\n",
    "                    PrimeKG_node_hpo_L = nodes[(nodes['node_source'] == \"HPO\") & (nodes['node_id'] == hpo_term_L)]['node_name'].item()\n",
    "                    PrimeKG_node_hpo_H = nodes[(nodes['node_source'] == \"HPO\") & (nodes['node_id'] == hpo_term_H)]['node_name'].item()\n",
    "\n",
    "                        \n",
    "                    list_annotations_patient_i.append([PrimeKG_node_hpo_L,PrimeKG_node_hpo_H])\n",
    "\n",
    "                # normal value for mean from CRP\n",
    "                elif (lab_exam in ['CRP','hs_CRP']) and (lab_exam_categorical_value==\"N\"):\n",
    "\n",
    "                    # look at the high and lower of CRP\n",
    "                    query_L = loinchpo.Query('1988-5', \"L\")\n",
    "                    resolver_L = loinchpo.QueryResolver(annotations)\n",
    "                    hpo_term_L = resolver_L.resolve(query_L)\n",
    "                    hpo_term_L = str(re.sub(regex, \"\", hpo_term_L.split(\":\")[1]) )\n",
    "\n",
    "                    query_H = loinchpo.Query('1988-5', \"H\")\n",
    "                    resolver_H = loinchpo.QueryResolver(annotations)\n",
    "                    hpo_term_H = resolver_H.resolve(query_H)\n",
    "                    hpo_term_H = str(re.sub(regex, \"\", hpo_term_H.split(\":\")[1]) )\n",
    "\n",
    "                    PrimeKG_node_hpo_L = nodes[(nodes['node_source'] == \"HPO\") & (nodes['node_id'] == hpo_term_L)]['node_name'].item()\n",
    "                    PrimeKG_node_hpo_H = nodes[(nodes['node_source'] == \"HPO\") & (nodes['node_id'] == hpo_term_H)]['node_name'].item()\n",
    "\n",
    "                    list_annotations_patient_i.append([PrimeKG_node_hpo_L,PrimeKG_node_hpo_H])\n",
    "\n",
    "                # low or high value for mean\n",
    "\n",
    "                elif (lab_exam == \"Total_bilirubin\") and (lab_exam_categorical_value == \"N\"):\n",
    "                    list_annotations_patient_i.append([\"Hypobilirubinemia\",\"Hyperbilirubinemia\"])\n",
    "\n",
    "                elif (lab_exam == \"Total_bilirubin\") and (lab_exam_categorical_value == \"L\"):\n",
    "                    list_annotations_patient_i.append([\"Hypobilirubinemia\"])\n",
    "\n",
    "                else:\n",
    "\n",
    "                    # not mapped to Prime KG so choose a node manually\n",
    "                    if (lab_exam_categorical_value==\"H\") and (lab_exam==\"Triglycerides\"):\n",
    "                        list_annotations_patient_i.append([\"Abnormal circulating lipid concentration\"])\n",
    "                        \n",
    "                    elif (lab_exam_categorical_value==\"N\") and (lab_exam==\"Triglycerides\"):\n",
    "                        list_annotations_patient_i.append([\"Abnormal circulating lipid concentration\",\"Hypotriglyceridemia\"])\n",
    "\n",
    "                    # not mapped to Prime KG so choose a node manually\n",
    "                    elif (lab_exam_categorical_value==\"L\") and (lab_exam==\"Lymphocytes_#\"):\n",
    "                        list_annotations_patient_i.append([\"B lymphocytopenia\",\"T lymphocytopenia\"])\n",
    "\n",
    "                    elif (lab_exam_categorical_value==\"N\") and (lab_exam==\"Lymphocytes_#\"):\n",
    "                        list_annotations_patient_i.append([\"B lymphocytopenia\",\"T lymphocytopenia\",\"Lymphocytosis\"])\n",
    "\n",
    "                    # query the low or high value\n",
    "                    else:\n",
    "\n",
    "                        query = loinchpo.Query(lab_exam_loinc_code, lab_exam_categorical_value)\n",
    "                        resolver = loinchpo.QueryResolver(annotations)\n",
    "                        hpo_term = resolver.resolve(query)\n",
    "                        hpo_term = str(re.sub(regex, \"\", hpo_term.split(\":\")[1]) )\n",
    "\n",
    "\n",
    "                        PrimeKG_node_hpo = nodes[(nodes['node_source'] == \"HPO\") & (nodes['node_id'] == hpo_term)]['node_name'].item()\n",
    "                        list_annotations_patient_i.append([PrimeKG_node_hpo])\n",
    "\n",
    "    \n",
    "            # if not included the normal value -> continue if normal, otherwise add the lower or the higher\n",
    "            else:\n",
    "                \n",
    "                if lab_exam_categorical_value==\"N\":\n",
    "                    continue\n",
    "                \n",
    "                # not mapped to Prime KG so choose a node manually\n",
    "                elif (lab_exam_categorical_value==\"H\") and (lab_exam==\"Triglycerides\"):\n",
    "                    list_annotations_patient_i.append([\"Abnormal circulating lipid concentration\"])\n",
    "\n",
    "                # not mapped to Prime KG so choose a node manually\n",
    "                elif (lab_exam_categorical_value==\"L\") and (lab_exam==\"Lymphocytes_#\"):\n",
    "                    list_annotations_patient_i.append([\"B lymphocytopenia\",\"T lymphocytopenia\"])\n",
    "                    \n",
    "                elif (lab_exam == \"Total_bilirubin\") and (lab_exam_categorical_value == \"L\"):\n",
    "                        list_annotations_patient_i.append([\"Hypobilirubinemia\"])\n",
    "\n",
    "                # query the low or high value\n",
    "                else:\n",
    "                    \n",
    "                    \n",
    "\n",
    "                    query = loinchpo.Query(lab_exam_loinc_code, lab_exam_categorical_value)\n",
    "                    resolver = loinchpo.QueryResolver(annotations)\n",
    "                    hpo_term = resolver.resolve(query)\n",
    "                    hpo_term = str(re.sub(regex, \"\", hpo_term.split(\":\")[1]) )\n",
    "\n",
    "\n",
    "                    PrimeKG_node_hpo = nodes[(nodes['node_source'] == \"HPO\") & (nodes['node_id'] == hpo_term)]['node_name'].item()\n",
    "                    list_annotations_patient_i.append([PrimeKG_node_hpo])\n",
    "    \n",
    "        ################### risk factors  ###################\n",
    "        \n",
    "        for risk_factor in name_categorical_disaese_or_hpo.keys():\n",
    "            if row[risk_factor] == 1:\n",
    "                list_annotations_patient_i.append(name_categorical_disaese_or_hpo[risk_factor])\n",
    "                \n",
    "        \n",
    "        ################### drugs features ###################\n",
    "        \n",
    "        for drug in name_drug_drugbank_entities.keys():\n",
    "            if row[drug] == 1:\n",
    "                list_annotations_patient_i.append(name_drug_drugbank_entities[drug])\n",
    "                    \n",
    "        ######## statine\n",
    "        df_info_statins_patients = df_info_statins[df_info_statins['Codice Epifania'] == row['Sample_ID']]\n",
    "        \n",
    "        \n",
    "        if df_info_statins_patients['Il paziente assume statine?'].item()==\"SI\":\n",
    "            if df_info_statins_patients['Molecola'].item()==\"ATORVASTATINA\":\n",
    "                list_annotations_patient_i.append(['Atorvastatin'])\n",
    "            elif df_info_statins_patients['Molecola'].item()==\"LOVASTATINA\":\n",
    "                list_annotations_patient_i.append(['Lovastatin'])\n",
    "            elif df_info_statins_patients['Molecola'].item()==\"ROSUVASTATINA\":\n",
    "                list_annotations_patient_i.append(['Rosuvastatin'])\n",
    "            elif df_info_statins_patients['Molecola'].item()==\"SIMVASTATINA\":\n",
    "                list_annotations_patient_i.append(['Simvastatin'])\n",
    "            elif df_info_statins_patients['Molecola'].item()==\"PRAVASTATINA\":\n",
    "                list_annotations_patient_i.append(['Pravastatin'])\n",
    "            \n",
    "       \n",
    "        ################### smoking habits  ###################\n",
    "        \n",
    "        # current smoker\n",
    "        if row['Smoking_habits'] == 2:\n",
    "            list_annotations_patient_i.append(['tobacco tar'])\n",
    "            list_annotations_patient_i.append(['Tobacco Smoke Pollution'])\n",
    "            list_annotations_patient_i.append(['Nicotine'])\n",
    "\n",
    "        # ex-smoker\n",
    "        elif row['Smoking_habits'] == 1:\n",
    "            \n",
    "            df_info_fumo_patient = df_info_fumo[df_info_fumo['Codice Epifania'] == row['Sample_ID']]\n",
    "            \n",
    "            # check if year of stop smoking present\n",
    "            if not(df_info_fumo_patient['Anno di fine'].isna().item()):\n",
    "                difference_visit_date_year_stop_smoking = (pd.to_datetime(df_info_fumo_patient['Data della visita'],format='%Y-%m-%d') - np.timedelta64(15, 'Y')).item().year\n",
    "                \n",
    "                if difference_visit_date_year_stop_smoking < int(df_info_fumo_patient['Anno di fine'].item()):\n",
    "                    list_annotations_patient_i.append(['Tobacco Smoke Pollution'])\n",
    "                    \n",
    "            # otherwise use years of smoking\n",
    "            else:\n",
    "                difference_age_years_of_smoking = row['Age'] - df_info_fumo_patient['Anni da fumatore'].item()\n",
    "                \n",
    "                if difference_age_years_of_smoking < 15:\n",
    "                    list_annotations_patient_i.append(['Tobacco Smoke Pollution'])\n",
    "                \n",
    "                \n",
    "        ################### Score questionnaires ###################\n",
    "    \n",
    "        if row['Score_FSSQ'] >=24:\n",
    "            list_annotations_patient_i.append(['Lack of peer relationships'])\n",
    "            \n",
    "        dict_phq9_conversion_string_number = {\"Mai\":0,\n",
    "                                              \"Molti giorni\":1,\n",
    "                                              \"Più della metà dei giorni\":2,\n",
    "                                              \"Quasi tutti i giorni\":3}\n",
    "        \n",
    "        df_phq9_numeric = df_phq9.replace(dict_phq9_conversion_string_number)\n",
    "            \n",
    "        df_phq9_patient = df_phq9_numeric[df_phq9_numeric['Codice Epifania'] == row['Sample_ID']]\n",
    "        \n",
    "        if (df_phq9_patient['Il questionario PHQ-9/4 è stato compilato?'] == \"SI\").item():\n",
    "            \n",
    "            if df_phq9_patient['Scarso interesse o piacere nel fare le cose'].item()>=2:\n",
    "                list_annotations_patient_i.append(['Diminished motivation'])\n",
    "                \n",
    "            if df_phq9_patient['Sentirsi giù, depresso o disperato'].item()>=2:\n",
    "                list_annotations_patient_i.append(['Depressivity'])\n",
    "                \n",
    "            if df_phq9_patient['Difficoltà ad addormentarsi o mantenere il sonno, o dormire troppo'].item()>=2:\n",
    "                list_annotations_patient_i.append(['Sleep disturbance'])\n",
    "                \n",
    "            if df_phq9_patient['Sentirsi stanco o avere poca energia'].item()>=2:\n",
    "                list_annotations_patient_i.append(['Fatigue'])\n",
    "                \n",
    "            if df_phq9_patient['Scarso appetito o mangiare troppo'].item()>=2:\n",
    "                list_annotations_patient_i.append(['Poor appetite','Polyphagia'])\n",
    "                \n",
    "            if df_phq9_patient['Sentirsi in colpa o di essere un fallito o di aver danneggiato se stesso o la sua famiglia'].item()>=2:\n",
    "                list_annotations_patient_i.append(['Low self esteem'])\n",
    "                \n",
    "            if df_phq9_patient['Difficoltà a concentrarsi sulle cose, come leggere il giornale o guardare la televisione'].item()>=2:\n",
    "                list_annotations_patient_i.append(['Diminished ability to concentrate'])\n",
    "                \n",
    "            if df_phq9_patient['Muoversi o parlare così lentamente tanto che anche gli atri se ne accorgono o, al contrario, essere così irrequieto o agitato da doversi muovere da ogni parte molto più del solito'].item()>=2:\n",
    "                list_annotations_patient_i.append(['Hyperactivity','Restlessness','Weak voice'])\n",
    "                                                  \n",
    "            if df_phq9_patient['Pensare che sarebbe meglio essere morto o di farsi del male in qualche modo'].item()>=2:\n",
    "                list_annotations_patient_i.append(['Suicidal ideation'])\n",
    "                \n",
    "            if df_phq9_patient['Sentirsi nervoso, ansioso o al limite'].item()>=2:\n",
    "                list_annotations_patient_i.append(['Emotional insecurity'])\n",
    "                \n",
    "            if df_phq9_patient['Non essere in grado di smettere di preoccuparsi o di controllare le preoccupazioni'].item()>=2:\n",
    "                list_annotations_patient_i.append(['Obsessive-compulsive behavior'])\n",
    "\n",
    "                \n",
    "        # mediterranean  minerals not included\n",
    "        # Potassium, Phosphorus,Copper, Magnesium, Iron, Selenium, Zinc,Manganese\n",
    "        if row['Score_PREDIMED'] >= 8: \n",
    "            list_annotations_patient_i.append(['Polyphenols','beta Carotene','Ascorbic Acid','alpha-Tocopherol',\n",
    "                                              'Fatty Acids, Unsaturated','Vitamin A','Vitamin E','Vitamin B 6',\n",
    "                                              'Folic Acid','Fatty Acids, Omega-3','alpha-Linolenic Acid','Phenols',\n",
    "                                               'Omega-3 fatty acids','Docosahexaenoic Acids'])\n",
    "            \n",
    "            \n",
    "        ############# disease ######################\n",
    "        df_disease_patient = df_disease[df_disease['Sample_ID'] == row['Sample_ID']]\n",
    "        \n",
    "        for disease_name_feature in disease_name_1to1_mapped_entities.keys():\n",
    "            if row[disease_name_feature] == 1:\n",
    "                if disease_name_feature == \"Upper_gastrointestinal_congenital_anomalies\":\n",
    "                    list_annotations_patient_i.append(['hiatus hernia (disease)'])\n",
    "                    \n",
    "                elif disease_name_feature == \"Chronic_airway_obstruction\":\n",
    "                    list_annotations_patient_i.append(['chronic obstructive pulmonary disease'])\n",
    "                     \n",
    "                elif disease_name_feature == \"Sleep_disorders\":\n",
    "                    list_annotations_patient_i.append(['obstructive sleep apnea syndrome'])\n",
    "            \n",
    "                elif disease_name_feature == \"Depression\":\n",
    "                    list_annotations_patient_i.append(['mixed anxiety and depressive disorder'])\n",
    "        \n",
    "                elif disease_name_feature == \"Hyperplasia_of_prostate\":\n",
    "                    list_annotations_patient_i.append(['benign prostatic hyperplasia (disease)'])\n",
    "        \n",
    "                elif disease_name_feature == \"Osteoporosis_osteopenia_and_pathological_fracture\":\n",
    "                    list_annotations_patient_i.append(['osteoporosis'])\n",
    "        \n",
    "                elif disease_name_feature == \"Hypothyroidism\":\n",
    "                    list_annotations_patient_i.append(['hypothyroidism'])\n",
    "                    \n",
    "                elif disease_name_feature == \"Chronic_liver_disease_and_cirrhosis\":\n",
    "                    list_annotations_patient_i.append(['fatty liver disease'])\n",
    "                    \n",
    "                elif disease_name_feature == \"Effects_of_other_external_causes\":\n",
    "                    list_annotations_patient_i.append(['drug allergy'])\n",
    "                    \n",
    "                elif disease_name_feature == \"Allergic_rhinitis\":\n",
    "                    list_annotations_patient_i.append(['allergic rhinitis'])\n",
    "                    \n",
    "                elif disease_name_feature == \"Glaucoma\":\n",
    "                    list_annotations_patient_i.append(['glaucoma'])\n",
    "                    \n",
    "                elif disease_name_feature == \"Thyrotoxicosis_with_or_without_goiter\":\n",
    "                    list_annotations_patient_i.append(['Graves disease'])\n",
    "                    \n",
    "                elif disease_name_feature == \"Parkinsons_disease\":\n",
    "                    list_annotations_patient_i.append(['Parkinson disease'])\n",
    "                    \n",
    "                elif disease_name_feature == \"Diverticulosis_and_diverticulitis\":\n",
    "                    list_annotations_patient_i.append(['diverticulitis of colon'])\n",
    "                    \n",
    "                elif disease_name_feature == \"Disorders_of_protein_plasma_amino_acid_transport_and_metabolism\":\n",
    "                    list_annotations_patient_i.append(['homocystinuria due to methylene tetrahydrofolate reductase deficiency'])    \n",
    "                    \n",
    "                ## check for the specific disease\n",
    "                elif disease_name_feature == \"Diseases_of_esophagus\":\n",
    "                    \n",
    "                    specific_disease_patient_list = df_disease_patient[df_disease_patient['Phenotypes_ICD9_3char'] == disease_name_feature.replace(\"_\",\" \")]['Patologia'].values\n",
    "                    for specific_disease_patient in specific_disease_patient_list:\n",
    "                        if specific_disease_patient == \"Gastroesophageal reflux disease\" or specific_disease_patient == \"Gastroesophageal reflux\":\n",
    "                            list_annotations_patient_i.append(['gastroesophageal reflux disease'])\n",
    "                        elif specific_disease_patient == \"Esophagitis\":\n",
    "                            list_annotations_patient_i.append(['esophagitis (disease)'])\n",
    "                        \n",
    "                elif disease_name_feature == \"Intervertebral_disc_disorders\":\n",
    "                    specific_disease_patient_list = df_disease_patient[df_disease_patient['Phenotypes_ICD9_3char'] == disease_name_feature.replace(\"_\",\" \")]['Patologia'].values\n",
    "                    for specific_disease_patient in specific_disease_patient_list:\n",
    "                        if specific_disease_patient == \"Herniated disc\" or specific_disease_patient == \"Intervertebral disc herniation\" or specific_disease_patient == \"Lumbar disc herniation\" or specific_disease_patient == \"Osteoarthritis of cervical spine\":\n",
    "                            list_annotations_patient_i.append(['intervertebral disc degenerative disorder'])\n",
    "                        elif specific_disease_patient == \"Cervical discopathy\":\n",
    "                            list_annotations_patient_i.append(['cervical disc degenerative disorder'])\n",
    "\n",
    "                    \n",
    "                elif disease_name_feature == \"Asthma\":\n",
    "                    specific_disease_patient_list = df_disease_patient[df_disease_patient['Phenotypes_ICD9_3char'] == disease_name_feature.replace(\"_\",\" \")]['Patologia'].values\n",
    "                    for specific_disease_patient in specific_disease_patient_list:\n",
    "                        if specific_disease_patient == \"Asthma\" or specific_disease_patient == \"Asthma NOS\" or specific_disease_patient == \"Asthma bronchial\" or specific_disease_patient == \"Asthma chronic\" or specific_disease_patient == \"Asthma unspecified type with status asthmaticus\" or specific_disease_patient == \"Asthmatic attack\":\n",
    "                            list_annotations_patient_i.append(['intrinsic asthma'])\n",
    "                        elif specific_disease_patient == \"Allergic asthma\":\n",
    "                            list_annotations_patient_i.append(['allergic asthma'])\n",
    "                        \n",
    "                        \n",
    "                elif disease_name_feature == \"Nontoxic_nodular_goiter\":\n",
    "                    specific_disease_patient_list = df_disease_patient[df_disease_patient['Phenotypes_ICD9_3char'] == disease_name_feature.replace(\"_\",\" \")]['Patologia'].values\n",
    "                    for specific_disease_patient in specific_disease_patient_list:\n",
    "                        if specific_disease_patient == \"Thyroid cold nodule\" or specific_disease_patient == \"Thyroid nodular\" or specific_disease_patient == \"Thyroid nodule\":\n",
    "                            list_annotations_patient_i.append(['nodular goiter (disease)'])\n",
    "                        elif specific_disease_patient == \"Multinodular goiter\":\n",
    "                            list_annotations_patient_i.append(['multinodular goiter'])\n",
    "                        \n",
    "                        \n",
    "                elif disease_name_feature == \"Gastritis_and_duodenitis\":\n",
    "                    specific_disease_patient_list = df_disease_patient[df_disease_patient['Phenotypes_ICD9_3char'] == disease_name_feature.replace(\"_\",\" \")]['Patologia'].values\n",
    "                    for specific_disease_patient in specific_disease_patient_list:\n",
    "                        if specific_disease_patient == \"Gastritis\" or specific_disease_patient == \"Gastritis NOS\":\n",
    "                            list_annotations_patient_i.append(['gastritis'])\n",
    "                        elif specific_disease_patient == \"Chronic gastritis\":\n",
    "                            list_annotations_patient_i.append(['chronic atrophic gastritis'])\n",
    "                        \n",
    "                elif disease_name_feature == \"Viral_hepatitis\":\n",
    "                    specific_disease_patient_list = df_disease_patient[df_disease_patient['Phenotypes_ICD9_3char'] == disease_name_feature.replace(\"_\",\" \")]['Patologia'].values\n",
    "                    for specific_disease_patient in specific_disease_patient_list:\n",
    "                        if specific_disease_patient == \"HBV DNA detectable\" or specific_disease_patient == \"Hepatitis B\" or specific_disease_patient == \"Hepatitis B antigen positive\" or specific_disease_patient == \"Hepatitis B virus test positive\":\n",
    "                            list_annotations_patient_i.append(['hepatitis B virus infection'])\n",
    "                        elif specific_disease_patient == \"Hepatitis C\" or specific_disease_patient == \"Hepatitis C test positive\" or specific_disease_patient == \"Hepatitis C virus test\":\n",
    "                            list_annotations_patient_i.append(['hepatitis C virus infection'])\n",
    "\n",
    "                elif disease_name_feature == \"Thyroiditis\":\n",
    "                    specific_disease_patient_list = df_disease_patient[df_disease_patient['Phenotypes_ICD9_3char'] == disease_name_feature.replace(\"_\",\" \")]['Patologia'].values\n",
    "                    for specific_disease_patient in specific_disease_patient_list:\n",
    "                        if specific_disease_patient == \"Immune-mediated hypothyroidism\" or specific_disease_patient == \"Thyroiditis\":\n",
    "                            list_annotations_patient_i.append(['thyroiditis (disease)'])\n",
    "                        elif specific_disease_patient == \"Hashimoto's thyroiditis\":\n",
    "                            list_annotations_patient_i.append(['Hashimoto thyroiditis'])\n",
    "                        \n",
    "                elif disease_name_feature == \"Hereditary_hemolytic_anemias\":\n",
    "                    specific_disease_patient_list = df_disease_patient[df_disease_patient['Phenotypes_ICD9_3char'] == disease_name_feature.replace(\"_\",\" \")]['Patologia'].values\n",
    "                    for specific_disease_patient in specific_disease_patient_list:\n",
    "                        if specific_disease_patient == \"Thalassemia minor\":\n",
    "                            list_annotations_patient_i.append(['alpha thalassemia'])\n",
    "                        elif specific_disease_patient == \"Thalassemia beta\" or specific_disease_patient == \"Mediterranean anemia\":\n",
    "                            list_annotations_patient_i.append(['beta thalassemia'])\n",
    "                        elif specific_disease_patient == \"Favism\":\n",
    "                            list_annotations_patient_i.append(['favism'])\n",
    "                        \n",
    "                elif disease_name_feature == \"Cholelithiasis_and_cholecystitis\":\n",
    "                    specific_disease_patient_list = df_disease_patient[df_disease_patient['Phenotypes_ICD9_3char'] == disease_name_feature.replace(\"_\",\" \")]['Patologia'].values\n",
    "                    for specific_disease_patient in specific_disease_patient_list:\n",
    "                        if specific_disease_patient == \"Cholelithiasis\" or specific_disease_patient == \"Calculus in gallbladder\" or specific_disease_patient == \"Calculus of gallbladder without mention of cholecystitis\":\n",
    "                            list_annotations_patient_i.append(['cholelithiasis'])\n",
    "                        elif specific_disease_patient == \"Renal calculi\":\n",
    "                            list_annotations_patient_i.append(['nephrolithiasis'])\n",
    "                        \n",
    "                elif disease_name_feature == \"Migraine\":\n",
    "                    specific_disease_patient_list = df_disease_patient[df_disease_patient['Phenotypes_ICD9_3char'] == disease_name_feature.replace(\"_\",\" \")]['Patologia'].values\n",
    "                    for specific_disease_patient in specific_disease_patient_list:\n",
    "                        if specific_disease_patient == \"Migraine with aura\":\n",
    "                            list_annotations_patient_i.append(['migraine with aura'])\n",
    "                        elif specific_disease_patient == \"Migraine\":\n",
    "                            list_annotations_patient_i.append(['migraine disorder'])\n",
    "                        \n",
    "                elif disease_name_feature == \"Other_diseases_of_blood_and_blood_forming_organs\":\n",
    "                    specific_disease_patient_list = df_disease_patient[df_disease_patient['Phenotypes_ICD9_3char'] == disease_name_feature.replace(\"_\",\" \")]['Patologia'].values\n",
    "                    for specific_disease_patient in specific_disease_patient_list:\n",
    "                        if specific_disease_patient == \"Factor V Leiden heterozygote\" or specific_disease_patient == \"Factor V Leiden mutation\" or specific_disease_patient == \"Factor V Leiden thrombophilia\":\n",
    "                            list_annotations_patient_i.append(['congenital factor V deficiency'])\n",
    "                        elif specific_disease_patient == \"Prothrombin mutation G20210A\":\n",
    "                            list_annotations_patient_i.append(['congenital prothrombin deficiency'])\n",
    "                        \n",
    "                elif disease_name_feature == \"Other_disorders_of_metabolism\":\n",
    "                    specific_disease_patient_list = df_disease_patient[df_disease_patient['Phenotypes_ICD9_3char'] == disease_name_feature.replace(\"_\",\" \")]['Patologia'].values\n",
    "                    for specific_disease_patient in specific_disease_patient_list:\n",
    "                        if specific_disease_patient == \"Metabolic syndrome\" or specific_disease_patient == \"Mitochondrial myopathy\":\n",
    "                            list_annotations_patient_i.append(['pure mitochondrial myopathy'])\n",
    "                        elif specific_disease_patient == \"Gilbert's syndrome\":\n",
    "                            list_annotations_patient_i.append(['Gilbert syndrome'])\n",
    "                            \n",
    "                elif disease_name_feature == \"Nonspecific_findings_on_examination_of_blood\":\n",
    "                    specific_disease_patient_list = df_disease_patient[df_disease_patient['Phenotypes_ICD9_3char'] == disease_name_feature.replace(\"_\",\" \")]['Patologia'].values\n",
    "                    for specific_disease_patient in specific_disease_patient_list:\n",
    "                        if specific_disease_patient == \"Hyperuricemia\":\n",
    "                            list_annotations_patient_i.append(['Hyperuricemia'])\n",
    "                        elif specific_disease_patient == \"Hyperferritinemia\":\n",
    "                            list_annotations_patient_i.append(['Increased circulating ferritin concentration'])\n",
    "                    \n",
    "        # assign annotations to patient ID\n",
    "        dictionary_patient_list_annotation[row['Sample_ID']] = list_annotations_patient_i\n",
    "        \n",
    "    return dictionary_patient_list_annotation"
   ]
  },
  {
   "cell_type": "code",
   "execution_count": null,
   "id": "992afbe3",
   "metadata": {},
   "outputs": [],
   "source": []
  },
  {
   "cell_type": "code",
   "execution_count": 7,
   "id": "19532cf5",
   "metadata": {
    "scrolled": true
   },
   "outputs": [
    {
     "name": "stderr",
     "output_type": "stream",
     "text": [
      "723it [01:28,  8.20it/s]\n"
     ]
    }
   ],
   "source": [
    "annotations_dict_NOT_include_normal = annotate_patients_from_clinical_variables(name_exam_LOINC,name_exam_normal_value,\n",
    "                                              dataset, annotations, False)"
   ]
  },
  {
   "cell_type": "code",
   "execution_count": 8,
   "id": "4d6d58fc",
   "metadata": {},
   "outputs": [],
   "source": [
    "import pickle\n",
    "with open('./clinical_annotations.pkl', 'wb') as fp:\n",
    "        pickle.dump(annotations_dict_NOT_include_normal,fp)"
   ]
  },
  {
   "cell_type": "code",
   "execution_count": null,
   "id": "709b254a",
   "metadata": {},
   "outputs": [],
   "source": []
  },
  {
   "cell_type": "code",
   "execution_count": 6,
   "id": "31ac6dfb",
   "metadata": {},
   "outputs": [
    {
     "name": "stderr",
     "output_type": "stream",
     "text": [
      "No artists with labels found to put in legend.  Note that artists whose label start with an underscore are ignored when legend() is called with no argument.\n"
     ]
    },
    {
     "data": {
      "text/plain": [
       "Text(0.5, 0, '# of clinical annotations')"
      ]
     },
     "execution_count": 6,
     "metadata": {},
     "output_type": "execute_result"
    },
    {
     "data": {
      "text/plain": [
       "<Figure size 640x480 with 0 Axes>"
      ]
     },
     "metadata": {},
     "output_type": "display_data"
    },
    {
     "data": {
      "image/png": "[encoded data removed]",
      "text/plain": [
       "<Figure size 220x300 with 1 Axes>"
      ]
     },
     "metadata": {},
     "output_type": "display_data"
    }
   ],
   "source": [
    "import matplotlib.pyplot as plt\n",
    "import seaborn as sb\n",
    "sb.set(font_scale=1.5) \n",
    "sb.set_style(\"whitegrid\")\n",
    "\n",
    "plt.figure()\n",
    "# read the results of the annotation -> not including normal -> each annotations a list of 1 or 2 l\n",
    "import pickle\n",
    "with open('./clinical_annotations.pkl', 'rb') as fp:\n",
    "        dict_patient_clinical_feature_annotation_NOTincluding_normal_PrimeKG = pickle.load(fp) \n",
    "        \n",
    "lists_annotations = []\n",
    "lists_annotations_number = []\n",
    "lists_annotations_class = []\n",
    "lists_sap = []\n",
    "for key, value in dict_patient_clinical_feature_annotation_NOTincluding_normal_PrimeKG.items():\n",
    "    lists_annotations.append(value)\n",
    "    lists_annotations_number.append(len(value))\n",
    "    SAP = dataset[dataset['Sample_ID'] == key]['Stenosis_area_percentage'].item()\n",
    "    if SAP == 0:\n",
    "        lists_annotations_class.append(\"0\")\n",
    "    elif SAP > 0 and SAP < 25:\n",
    "        lists_annotations_class.append(\"[1-24]\")   \n",
    "    elif SAP >= 25 and SAP < 50:\n",
    "        lists_annotations_class.append(\"[15-49]\")   \n",
    "    elif SAP >= 50 and SAP < 70:\n",
    "        lists_annotations_class.append(\"[50-69]\")    \n",
    "    elif SAP >= 70 and SAP < 100:\n",
    "        lists_annotations_class.append(\"[70-99]\")    \n",
    "    elif SAP == 100:\n",
    "        lists_annotations_class.append(\"100\")   \n",
    "    else:\n",
    "        print(SAP)\n",
    "    lists_sap.append(SAP)\n",
    "        \n",
    "sb.set_theme(style=\"whitegrid\", font_scale=1.2)\n",
    "        \n",
    "plt.figure(figsize=(2.2,3))\n",
    "df_annotations_NOTincluding_normal = pd.DataFrame({\"Coronary Artery Stenosis (CAS) %\" : lists_annotations_class, \"Number of clinical annotations\":lists_annotations_number})        \n",
    "df_annotations_NOTincluding_normal['Coronary Artery Stenosis (CAS) %'] = pd.Categorical(df_annotations_NOTincluding_normal['Coronary Artery Stenosis (CAS) %'], categories=[\"0\",\"[1-24]\",\"[15-49]\",\"[50-69]\",\"[70-99]\",\"100\"], ordered=True)\n",
    "df_annotations_NOTincluding_normal = df_annotations_NOTincluding_normal.sort_values(by='Coronary Artery Stenosis (CAS) %')\n",
    "# including normal\n",
    "a = sb.barplot(data=df_annotations_NOTincluding_normal, x=\"Number of clinical annotations\", hue=\"Coronary Artery Stenosis (CAS) %\",palette='Reds',y=\"Coronary Artery Stenosis (CAS) %\")\n",
    "\n",
    "plt.legend().remove()\n",
    "plt.xticks(rotation = 90)\n",
    "plt.ylabel(ylabel = \"Coronary Artery Stenosis %\", size=14.4)\n",
    "plt.xlabel(xlabel = \"# of clinical annotations\", size=14.4)\n",
    "#plt.savefig(\"./barplotd.png\", dpi=500,bbox_inches = \"tight\")\n"
   ]
  },
  {
   "cell_type": "code",
   "execution_count": null,
   "id": "eefdd09d",
   "metadata": {},
   "outputs": [],
   "source": []
  },
  {
   "cell_type": "code",
   "execution_count": null,
   "id": "ec50731c",
   "metadata": {},
   "outputs": [],
   "source": []
  },
  {
   "cell_type": "markdown",
   "id": "7b6cbca2",
   "metadata": {},
   "source": [
    "# Mapping the gene variables to PrimeKG"
   ]
  },
  {
   "cell_type": "code",
   "execution_count": 80,
   "id": "388d2fb8",
   "metadata": {},
   "outputs": [],
   "source": [
    "# select all the nodes that mach a genes from the gene expressiond dataset\n",
    "correctly_mappped_genes = list(nodes[(nodes['node_name'].isin(list(gene_expression['gene'].values))) & (nodes['node_type']==\"gene/protein\")]['node_name'])"
   ]
  },
  {
   "cell_type": "code",
   "execution_count": 81,
   "id": "3a662574",
   "metadata": {},
   "outputs": [],
   "source": [
    "np.save(\"./correctly_mapped_genes.npy\",correctly_mappped_genes,allow_pickle=True)"
   ]
  },
  {
   "cell_type": "code",
   "execution_count": null,
   "id": "e1db4c1d",
   "metadata": {},
   "outputs": [],
   "source": []
  },
  {
   "cell_type": "markdown",
   "id": "37d82f80",
   "metadata": {},
   "source": [
    "# check alias in Entrez API"
   ]
  },
  {
   "cell_type": "code",
   "execution_count": 71,
   "id": "c7ab053a",
   "metadata": {},
   "outputs": [],
   "source": [
    "from Bio import Entrez \n",
    "# connect bio entrez\n",
    "Entrez.email = \"giuseppe.albi01@universitadipavia.it\"\n",
    "direct_access=Entrez.read(Entrez.einfo())\n",
    "\n",
    "# example of search:\n",
    "handle = Entrez.esearch(db=\"gene\",term='CXorf40A AND Homo Sapiens [organism]')\n",
    "record = Entrez.read(handle)"
   ]
  },
  {
   "cell_type": "code",
   "execution_count": null,
   "id": "985478d7",
   "metadata": {},
   "outputs": [],
   "source": []
  },
  {
   "cell_type": "code",
   "execution_count": 82,
   "id": "d87cfabb",
   "metadata": {},
   "outputs": [],
   "source": [
    "# for the remaining genes (not directly mapped), we look for an alias with Entrez in the gede database\n",
    "gene_to_search_alias = list(set(gene_expression['gene']).difference(set(correctly_mappped_genes)))"
   ]
  },
  {
   "cell_type": "code",
   "execution_count": null,
   "id": "4a26390d",
   "metadata": {},
   "outputs": [],
   "source": []
  },
  {
   "cell_type": "code",
   "execution_count": 85,
   "id": "6fdedea9",
   "metadata": {
    "scrolled": true
   },
   "outputs": [
    {
     "name": "stderr",
     "output_type": "stream",
     "text": [
      "  2%|█▏                                                                          | 503/33452 [06:25<8:11:39,  1.12it/s]"
     ]
    },
    {
     "name": "stdout",
     "output_type": "stream",
     "text": [
      "GPRACR\n"
     ]
    },
    {
     "name": "stderr",
     "output_type": "stream",
     "text": [
      "  2%|█▎                                                                         | 590/33452 [07:35<10:47:28,  1.18s/it]"
     ]
    },
    {
     "name": "stdout",
     "output_type": "stream",
     "text": [
      "LINC02527\n"
     ]
    },
    {
     "name": "stderr",
     "output_type": "stream",
     "text": [
      "  3%|██▏                                                                        | 952/33452 [12:01<10:28:53,  1.16s/it]"
     ]
    },
    {
     "name": "stdout",
     "output_type": "stream",
     "text": [
      "AP001066.1\n"
     ]
    },
    {
     "name": "stderr",
     "output_type": "stream",
     "text": [
      "  4%|███                                                                       | 1372/33452 [17:19<10:32:00,  1.18s/it]"
     ]
    },
    {
     "name": "stdout",
     "output_type": "stream",
     "text": [
      "LINC01928\n"
     ]
    },
    {
     "name": "stderr",
     "output_type": "stream",
     "text": [
      "  7%|█████▎                                                                    | 2422/33452 [30:46<10:26:38,  1.21s/it]"
     ]
    },
    {
     "name": "stdout",
     "output_type": "stream",
     "text": [
      "GSTA11P\n"
     ]
    },
    {
     "name": "stderr",
     "output_type": "stream",
     "text": [
      "  7%|█████▌                                                                     | 2482/33452 [31:36<8:53:48,  1.03s/it]"
     ]
    },
    {
     "name": "stdout",
     "output_type": "stream",
     "text": [
      "AHCYP4\n"
     ]
    },
    {
     "name": "stderr",
     "output_type": "stream",
     "text": [
      "  8%|█████▋                                                                     | 2562/33452 [32:39<7:52:59,  1.09it/s]"
     ]
    },
    {
     "name": "stdout",
     "output_type": "stream",
     "text": [
      "LINC02262\n"
     ]
    },
    {
     "name": "stderr",
     "output_type": "stream",
     "text": [
      "  8%|█████▉                                                                     | 2664/33452 [33:59<9:05:56,  1.06s/it]"
     ]
    },
    {
     "name": "stdout",
     "output_type": "stream",
     "text": [
      "AC092040.2\n"
     ]
    },
    {
     "name": "stderr",
     "output_type": "stream",
     "text": [
      "  9%|██████▉                                                                    | 3080/33452 [39:19<8:54:47,  1.06s/it]"
     ]
    },
    {
     "name": "stdout",
     "output_type": "stream",
     "text": [
      "LINC02302\n"
     ]
    },
    {
     "name": "stderr",
     "output_type": "stream",
     "text": [
      " 12%|████████▊                                                                  | 3924/33452 [50:29<7:50:24,  1.05it/s]"
     ]
    },
    {
     "name": "stdout",
     "output_type": "stream",
     "text": [
      "RPL6P21\n"
     ]
    },
    {
     "name": "stderr",
     "output_type": "stream",
     "text": [
      " 13%|█████████▋                                                                 | 4339/33452 [55:55<9:13:22,  1.14s/it]"
     ]
    },
    {
     "name": "stdout",
     "output_type": "stream",
     "text": [
      "RNA5SP27\n"
     ]
    },
    {
     "name": "stderr",
     "output_type": "stream",
     "text": [
      " 14%|██████████▎                                                                | 4581/33452 [59:04<7:52:07,  1.02it/s]"
     ]
    },
    {
     "name": "stdout",
     "output_type": "stream",
     "text": [
      "AC138625.1\n"
     ]
    },
    {
     "name": "stderr",
     "output_type": "stream",
     "text": [
      " 14%|██████████▍                                                              | 4759/33452 [1:01:10<8:27:07,  1.06s/it]"
     ]
    },
    {
     "name": "stdout",
     "output_type": "stream",
     "text": [
      "OR5D3P\n"
     ]
    },
    {
     "name": "stderr",
     "output_type": "stream",
     "text": [
      " 14%|██████████▎                                                             | 4776/33452 [1:01:24<10:57:38,  1.38s/it]"
     ]
    },
    {
     "name": "stdout",
     "output_type": "stream",
     "text": [
      "RNA5SP460\n"
     ]
    },
    {
     "name": "stderr",
     "output_type": "stream",
     "text": [
      " 16%|███████████▍                                                            | 5321/33452 [1:08:33<10:37:34,  1.36s/it]"
     ]
    },
    {
     "name": "stdout",
     "output_type": "stream",
     "text": [
      "IGLV10-67\n"
     ]
    },
    {
     "name": "stderr",
     "output_type": "stream",
     "text": [
      " 17%|████████████▊                                                            | 5843/33452 [1:15:38<8:40:41,  1.13s/it]"
     ]
    },
    {
     "name": "stdout",
     "output_type": "stream",
     "text": [
      "LINC02214\n"
     ]
    },
    {
     "name": "stderr",
     "output_type": "stream",
     "text": [
      " 20%|██████████████▎                                                          | 6536/33452 [1:24:30<9:19:45,  1.25s/it]"
     ]
    },
    {
     "name": "stdout",
     "output_type": "stream",
     "text": [
      "MIR3169\n"
     ]
    },
    {
     "name": "stderr",
     "output_type": "stream",
     "text": [
      " 20%|██████████████▎                                                          | 6554/33452 [1:24:43<8:22:23,  1.12s/it]"
     ]
    },
    {
     "name": "stdout",
     "output_type": "stream",
     "text": [
      "RNU6-912P\n"
     ]
    },
    {
     "name": "stderr",
     "output_type": "stream",
     "text": [
      " 20%|██████████████▋                                                          | 6745/33452 [1:27:07<7:17:32,  1.02it/s]"
     ]
    },
    {
     "name": "stdout",
     "output_type": "stream",
     "text": [
      "AC135776.3\n"
     ]
    },
    {
     "name": "stderr",
     "output_type": "stream",
     "text": [
      " 21%|██████████████▉                                                          | 6868/33452 [1:28:51<9:26:50,  1.28s/it]"
     ]
    },
    {
     "name": "stdout",
     "output_type": "stream",
     "text": [
      "RNU6-87P\n"
     ]
    },
    {
     "name": "stderr",
     "output_type": "stream",
     "text": [
      " 21%|███████████████▏                                                         | 6958/33452 [1:29:58<7:12:00,  1.02it/s]"
     ]
    },
    {
     "name": "stdout",
     "output_type": "stream",
     "text": [
      "OR10D1P\n"
     ]
    },
    {
     "name": "stderr",
     "output_type": "stream",
     "text": [
      " 21%|███████████████▎                                                         | 7021/33452 [1:30:51<8:31:52,  1.16s/it]"
     ]
    },
    {
     "name": "stdout",
     "output_type": "stream",
     "text": [
      "RNU6-836P\n"
     ]
    },
    {
     "name": "stderr",
     "output_type": "stream",
     "text": [
      " 25%|█████████████████▉                                                       | 8208/33452 [1:46:35<8:55:31,  1.27s/it]"
     ]
    },
    {
     "name": "stdout",
     "output_type": "stream",
     "text": [
      "MIR5591\n"
     ]
    },
    {
     "name": "stderr",
     "output_type": "stream",
     "text": [
      " 25%|██████████████████▏                                                      | 8329/33452 [1:48:14<8:57:16,  1.28s/it]"
     ]
    },
    {
     "name": "stdout",
     "output_type": "stream",
     "text": [
      "LINC00556\n"
     ]
    },
    {
     "name": "stderr",
     "output_type": "stream",
     "text": [
      " 26%|██████████████████▊                                                      | 8596/33452 [1:51:39<8:32:46,  1.24s/it]"
     ]
    },
    {
     "name": "stdout",
     "output_type": "stream",
     "text": [
      "AL022310.1\n"
     ]
    },
    {
     "name": "stderr",
     "output_type": "stream",
     "text": [
      " 27%|███████████████████▉                                                     | 9116/33452 [1:58:47<7:35:24,  1.12s/it]"
     ]
    },
    {
     "name": "stdout",
     "output_type": "stream",
     "text": [
      "CYCSP46\n"
     ]
    },
    {
     "name": "stderr",
     "output_type": "stream",
     "text": [
      " 27%|███████████████████▉                                                     | 9162/33452 [1:59:25<8:19:31,  1.23s/it]"
     ]
    },
    {
     "name": "stdout",
     "output_type": "stream",
     "text": [
      "H2AZ2P1\n"
     ]
    },
    {
     "name": "stderr",
     "output_type": "stream",
     "text": [
      " 28%|████████████████████                                                     | 9216/33452 [2:00:06<6:48:14,  1.01s/it]"
     ]
    },
    {
     "name": "stdout",
     "output_type": "stream",
     "text": [
      "IFNNP1\n"
     ]
    },
    {
     "name": "stderr",
     "output_type": "stream",
     "text": [
      " 28%|████████████████████▋                                                    | 9467/33452 [2:03:28<9:12:16,  1.38s/it]"
     ]
    },
    {
     "name": "stdout",
     "output_type": "stream",
     "text": [
      "RN7SL225P\n"
     ]
    },
    {
     "name": "stderr",
     "output_type": "stream",
     "text": [
      " 28%|████████████████████▋                                                    | 9490/33452 [2:03:46<9:10:05,  1.38s/it]"
     ]
    },
    {
     "name": "stdout",
     "output_type": "stream",
     "text": [
      "KRT18P23\n"
     ]
    },
    {
     "name": "stderr",
     "output_type": "stream",
     "text": [
      " 29%|█████████████████████▍                                                   | 9805/33452 [2:08:07<8:09:00,  1.24s/it]"
     ]
    },
    {
     "name": "stdout",
     "output_type": "stream",
     "text": [
      "OR10B1P\n"
     ]
    },
    {
     "name": "stderr",
     "output_type": "stream",
     "text": [
      " 30%|█████████████████████▉                                                  | 10179/33452 [2:12:59<7:08:22,  1.10s/it]"
     ]
    },
    {
     "name": "stdout",
     "output_type": "stream",
     "text": [
      "LINC01282\n"
     ]
    },
    {
     "name": "stderr",
     "output_type": "stream",
     "text": [
      " 31%|██████████████████████▋                                                 | 10533/33452 [2:17:38<5:38:24,  1.13it/s]"
     ]
    },
    {
     "name": "stdout",
     "output_type": "stream",
     "text": [
      "LDHBP3\n"
     ]
    },
    {
     "name": "stderr",
     "output_type": "stream",
     "text": [
      " 32%|███████████████████████▏                                                | 10763/33452 [2:20:46<7:26:22,  1.18s/it]"
     ]
    },
    {
     "name": "stdout",
     "output_type": "stream",
     "text": [
      "AKR1B1P2\n"
     ]
    },
    {
     "name": "stderr",
     "output_type": "stream",
     "text": [
      " 34%|████████████████████████▏                                               | 11218/33452 [2:26:50<6:56:32,  1.12s/it]"
     ]
    },
    {
     "name": "stdout",
     "output_type": "stream",
     "text": [
      "PKNOX2-AS1\n"
     ]
    },
    {
     "name": "stderr",
     "output_type": "stream",
     "text": [
      " 34%|████████████████████████▏                                               | 11231/33452 [2:27:01<7:04:56,  1.15s/it]"
     ]
    },
    {
     "name": "stdout",
     "output_type": "stream",
     "text": [
      "HMGN1P38\n"
     ]
    },
    {
     "name": "stderr",
     "output_type": "stream",
     "text": [
      " 34%|████████████████████████▋                                               | 11444/33452 [2:29:35<6:02:52,  1.01it/s]"
     ]
    },
    {
     "name": "stdout",
     "output_type": "stream",
     "text": [
      "RNA5SP377\n"
     ]
    },
    {
     "name": "stderr",
     "output_type": "stream",
     "text": [
      " 34%|████████████████████████▊                                               | 11500/33452 [2:30:20<6:03:59,  1.01it/s]"
     ]
    },
    {
     "name": "stdout",
     "output_type": "stream",
     "text": [
      "AC231533.2\n"
     ]
    },
    {
     "name": "stderr",
     "output_type": "stream",
     "text": [
      " 35%|█████████████████████████▏                                              | 11727/33452 [2:33:17<9:37:53,  1.60s/it]"
     ]
    },
    {
     "name": "stdout",
     "output_type": "stream",
     "text": [
      "RPL7AP9\n"
     ]
    },
    {
     "name": "stderr",
     "output_type": "stream",
     "text": [
      " 40%|████████████████████████████▍                                           | 13234/33452 [2:53:05<6:35:47,  1.17s/it]"
     ]
    },
    {
     "name": "stdout",
     "output_type": "stream",
     "text": [
      "RN7SL496P\n"
     ]
    },
    {
     "name": "stderr",
     "output_type": "stream",
     "text": [
      " 40%|████████████████████████████▉                                           | 13450/33452 [2:56:02<6:06:16,  1.10s/it]"
     ]
    },
    {
     "name": "stdout",
     "output_type": "stream",
     "text": [
      "AC004125.1\n"
     ]
    },
    {
     "name": "stderr",
     "output_type": "stream",
     "text": [
      " 41%|█████████████████████████████▎                                          | 13596/33452 [2:57:50<6:03:21,  1.10s/it]"
     ]
    },
    {
     "name": "stdout",
     "output_type": "stream",
     "text": [
      "LINC02850\n"
     ]
    },
    {
     "name": "stderr",
     "output_type": "stream",
     "text": [
      " 42%|██████████████████████████████▍                                         | 14137/33452 [3:04:45<6:01:11,  1.12s/it]"
     ]
    },
    {
     "name": "stdout",
     "output_type": "stream",
     "text": [
      "CDK5P1\n"
     ]
    },
    {
     "name": "stderr",
     "output_type": "stream",
     "text": [
      " 43%|███████████████████████████████                                         | 14409/33452 [3:08:05<5:35:47,  1.06s/it]"
     ]
    },
    {
     "name": "stdout",
     "output_type": "stream",
     "text": [
      "PPIAP54\n"
     ]
    },
    {
     "name": "stderr",
     "output_type": "stream",
     "text": [
      " 44%|███████████████████████████████▍                                        | 14620/33452 [3:10:50<5:52:34,  1.12s/it]"
     ]
    },
    {
     "name": "stdout",
     "output_type": "stream",
     "text": [
      "CICP19\n"
     ]
    },
    {
     "name": "stderr",
     "output_type": "stream",
     "text": [
      " 45%|████████████████████████████████▋                                       | 15162/33452 [3:17:48<6:11:11,  1.22s/it]"
     ]
    },
    {
     "name": "stdout",
     "output_type": "stream",
     "text": [
      "FAM240B\n"
     ]
    },
    {
     "name": "stderr",
     "output_type": "stream",
     "text": [
      " 46%|█████████████████████████████████▎                                      | 15464/33452 [3:21:27<5:17:34,  1.06s/it]"
     ]
    },
    {
     "name": "stdout",
     "output_type": "stream",
     "text": [
      "AC006277.1\n"
     ]
    },
    {
     "name": "stderr",
     "output_type": "stream",
     "text": [
      " 48%|██████████████████████████████████▍                                     | 15985/33452 [3:28:22<5:35:43,  1.15s/it]"
     ]
    },
    {
     "name": "stdout",
     "output_type": "stream",
     "text": [
      "ABI1P1\n"
     ]
    },
    {
     "name": "stderr",
     "output_type": "stream",
     "text": [
      " 48%|██████████████████████████████████▍                                     | 15989/33452 [3:28:27<6:18:13,  1.30s/it]"
     ]
    },
    {
     "name": "stdout",
     "output_type": "stream",
     "text": [
      "RPL21P133\n"
     ]
    },
    {
     "name": "stderr",
     "output_type": "stream",
     "text": [
      " 48%|██████████████████████████████████▋                                     | 16091/33452 [3:29:46<4:43:50,  1.02it/s]"
     ]
    },
    {
     "name": "stdout",
     "output_type": "stream",
     "text": [
      "MTND5P28\n"
     ]
    },
    {
     "name": "stderr",
     "output_type": "stream",
     "text": [
      " 48%|██████████████████████████████████▋                                     | 16114/33452 [3:30:05<5:22:58,  1.12s/it]"
     ]
    },
    {
     "name": "stdout",
     "output_type": "stream",
     "text": [
      "AP000523.1\n"
     ]
    },
    {
     "name": "stderr",
     "output_type": "stream",
     "text": [
      " 49%|███████████████████████████████████                                     | 16282/33452 [3:32:11<5:51:47,  1.23s/it]"
     ]
    },
    {
     "name": "stdout",
     "output_type": "stream",
     "text": [
      "SMARCE1P6\n"
     ]
    },
    {
     "name": "stderr",
     "output_type": "stream",
     "text": [
      " 50%|███████████████████████████████████▋                                    | 16605/33452 [3:36:43<5:00:11,  1.07s/it]"
     ]
    },
    {
     "name": "stdout",
     "output_type": "stream",
     "text": [
      "AC106806.2\n"
     ]
    },
    {
     "name": "stderr",
     "output_type": "stream",
     "text": [
      " 50%|███████████████████████████████████▉                                    | 16687/33452 [3:37:42<4:20:53,  1.07it/s]"
     ]
    },
    {
     "name": "stdout",
     "output_type": "stream",
     "text": [
      "LINC02291\n"
     ]
    },
    {
     "name": "stderr",
     "output_type": "stream",
     "text": [
      " 50%|████████████████████████████████████▎                                   | 16858/33452 [3:39:49<4:59:22,  1.08s/it]"
     ]
    },
    {
     "name": "stdout",
     "output_type": "stream",
     "text": [
      "U85056.1\n"
     ]
    },
    {
     "name": "stderr",
     "output_type": "stream",
     "text": [
      " 51%|████████████████████████████████████▋                                   | 17020/33452 [3:41:53<5:12:00,  1.14s/it]"
     ]
    },
    {
     "name": "stdout",
     "output_type": "stream",
     "text": [
      "FGF7P2\n"
     ]
    },
    {
     "name": "stderr",
     "output_type": "stream",
     "text": [
      " 51%|████████████████████████████████████▉                                   | 17164/33452 [3:43:39<4:45:22,  1.05s/it]"
     ]
    },
    {
     "name": "stdout",
     "output_type": "stream",
     "text": [
      "POLD2P1\n"
     ]
    },
    {
     "name": "stderr",
     "output_type": "stream",
     "text": [
      " 51%|█████████████████████████████████████                                   | 17205/33452 [3:44:07<4:28:23,  1.01it/s]"
     ]
    },
    {
     "name": "stdout",
     "output_type": "stream",
     "text": [
      "AP000324.1\n"
     ]
    },
    {
     "name": "stderr",
     "output_type": "stream",
     "text": [
      " 52%|█████████████████████████████████████▌                                  | 17457/33452 [3:47:12<4:24:52,  1.01it/s]"
     ]
    },
    {
     "name": "stdout",
     "output_type": "stream",
     "text": [
      "YWHAZP7\n"
     ]
    },
    {
     "name": "stderr",
     "output_type": "stream",
     "text": [
      " 53%|█████████████████████████████████████▉                                  | 17619/33452 [3:49:09<4:36:46,  1.05s/it]"
     ]
    },
    {
     "name": "stdout",
     "output_type": "stream",
     "text": [
      "AC000068.2\n"
     ]
    },
    {
     "name": "stderr",
     "output_type": "stream",
     "text": [
      " 53%|██████████████████████████████████████▏                                 | 17742/33452 [3:50:41<4:53:17,  1.12s/it]"
     ]
    },
    {
     "name": "stdout",
     "output_type": "stream",
     "text": [
      "OR9P1P\n"
     ]
    },
    {
     "name": "stderr",
     "output_type": "stream",
     "text": [
      " 54%|███████████████████████████████████████                                 | 18156/33452 [3:55:58<4:27:05,  1.05s/it]"
     ]
    },
    {
     "name": "stdout",
     "output_type": "stream",
     "text": [
      "AL031005.2\n"
     ]
    },
    {
     "name": "stderr",
     "output_type": "stream",
     "text": [
      " 55%|███████████████████████████████████████▎                                | 18253/33452 [3:57:15<4:48:13,  1.14s/it]"
     ]
    },
    {
     "name": "stdout",
     "output_type": "stream",
     "text": [
      "MIR3922\n"
     ]
    },
    {
     "name": "stderr",
     "output_type": "stream",
     "text": [
      " 55%|███████████████████████████████████████▍                                | 18323/33452 [3:58:15<5:30:46,  1.31s/it]"
     ]
    },
    {
     "name": "stdout",
     "output_type": "stream",
     "text": [
      "ZDHHC20P2\n"
     ]
    },
    {
     "name": "stderr",
     "output_type": "stream",
     "text": [
      " 55%|███████████████████████████████████████▍                                | 18325/33452 [3:58:18<6:12:43,  1.48s/it]"
     ]
    },
    {
     "name": "stdout",
     "output_type": "stream",
     "text": [
      "RN7SL690P\n"
     ]
    },
    {
     "name": "stderr",
     "output_type": "stream",
     "text": [
      " 56%|████████████████████████████████████████▌                               | 18838/33452 [4:05:06<5:01:59,  1.24s/it]"
     ]
    },
    {
     "name": "stdout",
     "output_type": "stream",
     "text": [
      "AL030996.1\n"
     ]
    },
    {
     "name": "stderr",
     "output_type": "stream",
     "text": [
      " 57%|████████████████████████████████████████▉                               | 19042/33452 [4:07:40<4:28:17,  1.12s/it]"
     ]
    },
    {
     "name": "stdout",
     "output_type": "stream",
     "text": [
      "RNU6-23P\n"
     ]
    },
    {
     "name": "stderr",
     "output_type": "stream",
     "text": [
      " 57%|█████████████████████████████████████████▍                              | 19227/33452 [4:10:16<4:05:36,  1.04s/it]"
     ]
    },
    {
     "name": "stdout",
     "output_type": "stream",
     "text": [
      "CD46P1\n"
     ]
    },
    {
     "name": "stderr",
     "output_type": "stream",
     "text": [
      " 58%|█████████████████████████████████████████▊                              | 19412/33452 [4:12:43<4:18:43,  1.11s/it]"
     ]
    },
    {
     "name": "stdout",
     "output_type": "stream",
     "text": [
      "RN7SL296P\n"
     ]
    },
    {
     "name": "stderr",
     "output_type": "stream",
     "text": [
      " 58%|██████████████████████████████████████████                              | 19523/33452 [4:14:10<4:24:15,  1.14s/it]"
     ]
    },
    {
     "name": "stdout",
     "output_type": "stream",
     "text": [
      "AC005537.2\n"
     ]
    },
    {
     "name": "stderr",
     "output_type": "stream",
     "text": [
      " 60%|███████████████████████████████████████████▎                            | 20137/33452 [4:21:59<4:03:18,  1.10s/it]"
     ]
    },
    {
     "name": "stdout",
     "output_type": "stream",
     "text": [
      "MIR1302-2HG\n"
     ]
    },
    {
     "name": "stderr",
     "output_type": "stream",
     "text": [
      " 61%|███████████████████████████████████████████▋                            | 20269/33452 [4:23:41<3:43:38,  1.02s/it]"
     ]
    },
    {
     "name": "stdout",
     "output_type": "stream",
     "text": [
      "RN7SL428P\n"
     ]
    },
    {
     "name": "stderr",
     "output_type": "stream",
     "text": [
      " 61%|███████████████████████████████████████████▉                            | 20442/33452 [4:26:27<3:40:27,  1.02s/it]"
     ]
    },
    {
     "name": "stdout",
     "output_type": "stream",
     "text": [
      "LINC01630\n"
     ]
    },
    {
     "name": "stderr",
     "output_type": "stream",
     "text": [
      " 62%|████████████████████████████████████████████▎                           | 20600/33452 [4:28:28<3:42:04,  1.04s/it]"
     ]
    },
    {
     "name": "stdout",
     "output_type": "stream",
     "text": [
      "WBP1LP10\n"
     ]
    },
    {
     "name": "stderr",
     "output_type": "stream",
     "text": [
      " 64%|█████████████████████████████████████████████▉                          | 21372/33452 [4:38:22<3:10:18,  1.06it/s]"
     ]
    },
    {
     "name": "stdout",
     "output_type": "stream",
     "text": [
      "C22orf24\n"
     ]
    },
    {
     "name": "stderr",
     "output_type": "stream",
     "text": [
      " 67%|████████████████████████████████████████████████▏                       | 22361/33452 [4:50:58<3:42:22,  1.20s/it]"
     ]
    },
    {
     "name": "stdout",
     "output_type": "stream",
     "text": [
      "PSMD4P1\n"
     ]
    },
    {
     "name": "stderr",
     "output_type": "stream",
     "text": [
      " 67%|████████████████████████████████████████████████▍                       | 22532/33452 [4:53:13<3:41:53,  1.22s/it]"
     ]
    },
    {
     "name": "stdout",
     "output_type": "stream",
     "text": [
      "MIR6845\n"
     ]
    },
    {
     "name": "stderr",
     "output_type": "stream",
     "text": [
      " 68%|████████████████████████████████████████████████▋                       | 22619/33452 [4:54:23<3:17:36,  1.09s/it]"
     ]
    },
    {
     "name": "stdout",
     "output_type": "stream",
     "text": [
      "C11orf40\n"
     ]
    },
    {
     "name": "stderr",
     "output_type": "stream",
     "text": [
      " 68%|█████████████████████████████████████████████████▎                      | 22905/33452 [4:58:05<3:17:08,  1.12s/it]"
     ]
    },
    {
     "name": "stdout",
     "output_type": "stream",
     "text": [
      "AC092656.1\n"
     ]
    },
    {
     "name": "stderr",
     "output_type": "stream",
     "text": [
      " 71%|███████████████████████████████████████████████████                     | 23731/33452 [5:08:48<3:28:16,  1.29s/it]"
     ]
    },
    {
     "name": "stdout",
     "output_type": "stream",
     "text": [
      "RNU6-937P\n"
     ]
    },
    {
     "name": "stderr",
     "output_type": "stream",
     "text": [
      " 71%|███████████████████████████████████████████████████▏                    | 23780/33452 [5:09:31<2:57:57,  1.10s/it]"
     ]
    },
    {
     "name": "stdout",
     "output_type": "stream",
     "text": [
      "AP005902.2\n"
     ]
    },
    {
     "name": "stderr",
     "output_type": "stream",
     "text": [
      " 73%|████████████████████████████████████████████████████▌                   | 24401/33452 [5:17:27<2:33:51,  1.02s/it]"
     ]
    },
    {
     "name": "stdout",
     "output_type": "stream",
     "text": [
      "SELENOWP1\n"
     ]
    },
    {
     "name": "stderr",
     "output_type": "stream",
     "text": [
      " 73%|████████████████████████████████████████████████████▉                   | 24570/33452 [5:19:49<2:48:50,  1.14s/it]"
     ]
    },
    {
     "name": "stdout",
     "output_type": "stream",
     "text": [
      "EIF4A1P11\n"
     ]
    },
    {
     "name": "stderr",
     "output_type": "stream",
     "text": [
      " 73%|████████████████████████████████████████████████████▉                   | 24579/33452 [5:19:59<3:35:39,  1.46s/it]"
     ]
    },
    {
     "name": "stdout",
     "output_type": "stream",
     "text": [
      "AC126121.2\n"
     ]
    },
    {
     "name": "stderr",
     "output_type": "stream",
     "text": [
      " 74%|█████████████████████████████████████████████████████▎                  | 24744/33452 [5:22:07<2:30:32,  1.04s/it]"
     ]
    },
    {
     "name": "stdout",
     "output_type": "stream",
     "text": [
      "RNU6-1255P\n"
     ]
    },
    {
     "name": "stderr",
     "output_type": "stream",
     "text": [
      " 75%|██████████████████████████████████████████████████████                  | 25125/33452 [5:26:48<2:28:36,  1.07s/it]"
     ]
    },
    {
     "name": "stdout",
     "output_type": "stream",
     "text": [
      "H3P15\n"
     ]
    },
    {
     "name": "stderr",
     "output_type": "stream",
     "text": [
      " 78%|████████████████████████████████████████████████████████▏               | 26079/33452 [5:39:53<2:15:01,  1.10s/it]"
     ]
    },
    {
     "name": "stdout",
     "output_type": "stream",
     "text": [
      "RNU7-155P\n"
     ]
    },
    {
     "name": "stderr",
     "output_type": "stream",
     "text": [
      " 78%|████████████████████████████████████████████████████████▏               | 26104/33452 [5:40:14<2:20:17,  1.15s/it]"
     ]
    },
    {
     "name": "stdout",
     "output_type": "stream",
     "text": [
      "AGGF1P10\n"
     ]
    },
    {
     "name": "stderr",
     "output_type": "stream",
     "text": [
      " 80%|█████████████████████████████████████████████████████████▊              | 26877/33452 [5:50:09<2:18:15,  1.26s/it]"
     ]
    },
    {
     "name": "stdout",
     "output_type": "stream",
     "text": [
      "ARL6IP1P3\n"
     ]
    },
    {
     "name": "stderr",
     "output_type": "stream",
     "text": [
      " 82%|██████████████████████████████████████████████████████████▋             | 27275/33452 [5:55:05<1:40:41,  1.02it/s]"
     ]
    },
    {
     "name": "stdout",
     "output_type": "stream",
     "text": [
      "SOCS5P5\n"
     ]
    },
    {
     "name": "stderr",
     "output_type": "stream",
     "text": [
      " 82%|██████████████████████████████████████████████████████████▉             | 27376/33452 [5:56:23<1:51:27,  1.10s/it]"
     ]
    },
    {
     "name": "stdout",
     "output_type": "stream",
     "text": [
      "LINC02114\n"
     ]
    },
    {
     "name": "stderr",
     "output_type": "stream",
     "text": [
      " 82%|███████████████████████████████████████████████████████████             | 27415/33452 [5:56:49<1:46:28,  1.06s/it]"
     ]
    },
    {
     "name": "stdout",
     "output_type": "stream",
     "text": [
      "LINC02846\n"
     ]
    },
    {
     "name": "stderr",
     "output_type": "stream",
     "text": [
      " 83%|███████████████████████████████████████████████████████████▋            | 27738/33452 [6:01:04<1:47:49,  1.13s/it]"
     ]
    },
    {
     "name": "stdout",
     "output_type": "stream",
     "text": [
      "CYMP-AS1\n"
     ]
    },
    {
     "name": "stderr",
     "output_type": "stream",
     "text": [
      " 84%|████████████████████████████████████████████████████████████▏           | 27991/33452 [6:04:32<1:34:53,  1.04s/it]"
     ]
    },
    {
     "name": "stdout",
     "output_type": "stream",
     "text": [
      "RPS27AP10\n"
     ]
    },
    {
     "name": "stderr",
     "output_type": "stream",
     "text": [
      " 84%|████████████████████████████████████████████████████████████▋           | 28209/33452 [6:07:15<1:19:13,  1.10it/s]"
     ]
    },
    {
     "name": "stdout",
     "output_type": "stream",
     "text": [
      "RN7SKP272\n"
     ]
    },
    {
     "name": "stderr",
     "output_type": "stream",
     "text": [
      " 85%|████████████████████████████████████████████████████████████▊           | 28280/33452 [6:08:11<1:48:23,  1.26s/it]"
     ]
    },
    {
     "name": "stdout",
     "output_type": "stream",
     "text": [
      "TMEM274P\n"
     ]
    },
    {
     "name": "stderr",
     "output_type": "stream",
     "text": [
      " 86%|█████████████████████████████████████████████████████████████▋          | 28649/33452 [6:12:42<1:23:05,  1.04s/it]"
     ]
    },
    {
     "name": "stdout",
     "output_type": "stream",
     "text": [
      "Z73965.1\n"
     ]
    },
    {
     "name": "stderr",
     "output_type": "stream",
     "text": [
      " 88%|███████████████████████████████████████████████████████████████▌        | 29544/33452 [6:23:54<1:06:17,  1.02s/it]"
     ]
    },
    {
     "name": "stdout",
     "output_type": "stream",
     "text": [
      "OR51N1P\n"
     ]
    },
    {
     "name": "stderr",
     "output_type": "stream",
     "text": [
      " 93%|████████████████████████████████████████████████████████████████████▍     | 30954/33452 [6:42:19<51:08,  1.23s/it]"
     ]
    },
    {
     "name": "stdout",
     "output_type": "stream",
     "text": [
      "CYCSP4\n"
     ]
    },
    {
     "name": "stderr",
     "output_type": "stream",
     "text": [
      " 93%|█████████████████████████████████████████████████████████████████████▏    | 31277/33452 [6:46:16<38:19,  1.06s/it]"
     ]
    },
    {
     "name": "stdout",
     "output_type": "stream",
     "text": [
      "LINC02572\n"
     ]
    },
    {
     "name": "stderr",
     "output_type": "stream",
     "text": [
      " 94%|█████████████████████████████████████████████████████████████████████▍    | 31397/33452 [6:47:37<38:40,  1.13s/it]"
     ]
    },
    {
     "name": "stdout",
     "output_type": "stream",
     "text": [
      "PLA2G12AP2\n"
     ]
    },
    {
     "name": "stderr",
     "output_type": "stream",
     "text": [
      " 95%|██████████████████████████████████████████████████████████████████████▎   | 31757/33452 [6:52:34<33:19,  1.18s/it]"
     ]
    },
    {
     "name": "stdout",
     "output_type": "stream",
     "text": [
      "RNU6-806P\n"
     ]
    },
    {
     "name": "stderr",
     "output_type": "stream",
     "text": [
      " 97%|███████████████████████████████████████████████████████████████████████▍  | 32286/33452 [6:59:28<23:30,  1.21s/it]"
     ]
    },
    {
     "name": "stdout",
     "output_type": "stream",
     "text": [
      "ARHGAP16P\n"
     ]
    },
    {
     "name": "stderr",
     "output_type": "stream",
     "text": [
      " 97%|███████████████████████████████████████████████████████████████████████▉  | 32498/33452 [7:02:20<18:51,  1.19s/it]"
     ]
    },
    {
     "name": "stdout",
     "output_type": "stream",
     "text": [
      "RNU6-1074P\n"
     ]
    },
    {
     "name": "stderr",
     "output_type": "stream",
     "text": [
      " 98%|████████████████████████████████████████████████████████████████████████▏ | 32629/33452 [7:04:03<20:02,  1.46s/it]"
     ]
    },
    {
     "name": "stdout",
     "output_type": "stream",
     "text": [
      "PPIAP59\n"
     ]
    },
    {
     "name": "stderr",
     "output_type": "stream",
     "text": [
      " 98%|████████████████████████████████████████████████████████████████████████▏ | 32642/33452 [7:04:13<14:20,  1.06s/it]"
     ]
    },
    {
     "name": "stdout",
     "output_type": "stream",
     "text": [
      "REREP2Y\n"
     ]
    },
    {
     "name": "stderr",
     "output_type": "stream",
     "text": [
      "100%|██████████████████████████████████████████████████████████████████████████| 33452/33452 [7:14:24<00:00,  1.28it/s]\n"
     ]
    }
   ],
   "source": [
    "alias = []\n",
    "igs = []\n",
    "\n",
    "for gene in tqdm(gene_to_search_alias):\n",
    "    # define search string\n",
    "    search_string = gene\n",
    "    search_string += \" AND Homo Sapiens [organism]\"\n",
    "\n",
    "    # find gene id\n",
    "    handle = Entrez.esearch(db=\"gene\",term=search_string)\n",
    "    record = Entrez.read(handle)\n",
    "    \n",
    "    try:\n",
    "        if len(record[\"IdList\"])!=0:\n",
    "\n",
    "            # search with id for more info\n",
    "            record_with_aliases = Entrez.efetch(db=\"gene\",id=record[\"IdList\"][0],retmode=\"json\")\n",
    "            entry = record_with_aliases.read()\n",
    "\n",
    "            # find official name\n",
    "            entry.split(\"\\n\")[1][3:]\n",
    "            alias.append(entry.split(\"\\n\")[1][3:])\n",
    "            igs.append(gene)\n",
    "\n",
    "        else:\n",
    "            alias.append(\"no alias\")\n",
    "            igs.append(gene)\n",
    "    except:\n",
    "        print(gene)\n",
    "        \n"
   ]
  },
  {
   "cell_type": "code",
   "execution_count": 86,
   "id": "6af9d2b9",
   "metadata": {},
   "outputs": [],
   "source": [
    "# for some server request there was an error so we rerun again\n",
    "no_select_one_other_run = ['GPRACR','LINC02527','AP001066.1','LINC01928','GSTA11P','AHCYP4','LINC02262',\n",
    "                           'AC092040.2','LINC02302','RPL6P21','RNA5SP27','AC138625.1','OR5D3P','RNA5SP460',\n",
    "                           'IGLV10-67','LINC02214','MIR3169','RNU6-912P','AC135776.3','RNU6-87P','OR10D1P',\n",
    "                           'RNU6-836P','MIR5591','LINC00556','AL022310.1','CYCSP46','H2AZ2P1','IFNNP1',\n",
    "                           'RN7SL225P','KRT18P23','OR10B1P','LINC01282','LDHBP3','AKR1B1P2','PKNOX2-AS1',\n",
    "                           'HMGN1P38','RNA5SP377','AC231533.2','RPL7AP9','RN7SL496P','AC004125.1','LINC02850',\n",
    "                           'CDK5P1','PPIAP54','CICP19','FAM240B','AC006277.1','ABI1P1','RPL21P133','MTND5P28',\n",
    "                           'AP000523.1','SMARCE1P6','AC106806.2','LINC02291','U85056.1','FGF7P2','POLD2P1',\n",
    "                           'AP000324.1','YWHAZP7','AC000068.2','OR9P1P','AL031005.2','MIR3922','ZDHHC20P2',\n",
    "                           'RN7SL690P','AL030996.1','RNU6-23P','CD46P1','RN7SL296P','AC005537.2','MIR1302-2HG',\n",
    "                           'RN7SL428P','LINC01630','WBP1LP10','C22orf24','PSMD4P1','MIR6845','C11orf40',\n",
    "                           'AC092656.1','RNU6-937P','AP005902.2','SELENOWP1','EIF4A1P11','AC126121.2',\n",
    "                           'RNU6-1255P','H3P15','RNU7-155P','AGGF1P10','ARL6IP1P3','SOCS5P5','LINC02114',\n",
    "                           'LINC02846','CYMP-AS1','RPS27AP10','RN7SKP272','TMEM274P','Z73965.1','OR51N1P','CYCSP4',\n",
    "                           'LINC02572','PLA2G12AP2','RNU6-806P','ARHGAP16P','RNU6-1074P','PPIAP59','REREP2Y']"
   ]
  },
  {
   "cell_type": "code",
   "execution_count": 87,
   "id": "c6cc45bc",
   "metadata": {},
   "outputs": [
    {
     "name": "stderr",
     "output_type": "stream",
     "text": [
      "100%|████████████████████████████████████████████████████████████████████████████████| 106/106 [02:06<00:00,  1.20s/it]\n"
     ]
    }
   ],
   "source": [
    "# alias = []\n",
    "# igs = []\n",
    "\n",
    "for gene in tqdm(no_select_one_other_run):\n",
    "    # define search string\n",
    "    search_string = gene\n",
    "    search_string += \" AND Homo Sapiens [organism]\"\n",
    "\n",
    "    # find gene id\n",
    "    handle = Entrez.esearch(db=\"gene\",term=search_string)\n",
    "    record = Entrez.read(handle)\n",
    "    \n",
    "    try:\n",
    "        if len(record[\"IdList\"])!=0:\n",
    "\n",
    "            # search with id for more info\n",
    "            record_with_aliases = Entrez.efetch(db=\"gene\",id=record[\"IdList\"][0],retmode=\"json\")\n",
    "            entry = record_with_aliases.read()\n",
    "\n",
    "            # find official name\n",
    "            entry.split(\"\\n\")[1][3:]\n",
    "            alias.append(entry.split(\"\\n\")[1][3:])\n",
    "            igs.append(gene)\n",
    "\n",
    "        else:\n",
    "            alias.append(\"no alias\")\n",
    "            igs.append(gene)\n",
    "    except:\n",
    "        print(gene)\n",
    "        \n"
   ]
  },
  {
   "cell_type": "code",
   "execution_count": null,
   "id": "2b78af64",
   "metadata": {},
   "outputs": [],
   "source": []
  },
  {
   "cell_type": "code",
   "execution_count": 88,
   "id": "c3f7ca13",
   "metadata": {},
   "outputs": [],
   "source": [
    "dict_gene_alias_mapping_primeKG = {}\n",
    "\n",
    "for gene in list(correctly_mappped_genes):\n",
    "    dict_gene_alias_mapping_primeKG[gene] = gene\n",
    "        \n",
    "for gene,alias in zip(igs,alias):\n",
    "    if alias!='no alias':\n",
    "        if alias not in correctly_mappped_genes:\n",
    "            dict_gene_alias_mapping_primeKG[gene] = alias\n",
    "        else:\n",
    "            dict_gene_alias_mapping_primeKG[gene] = 'no alias' \n",
    "    \n",
    "    else:\n",
    "        dict_gene_alias_mapping_primeKG[gene] = 'no alias' "
   ]
  },
  {
   "cell_type": "code",
   "execution_count": null,
   "id": "21a836a0",
   "metadata": {},
   "outputs": [],
   "source": []
  },
  {
   "cell_type": "code",
   "execution_count": 95,
   "id": "8ca35758",
   "metadata": {},
   "outputs": [],
   "source": [
    "import pickle\n",
    "with open('./dict_gene_alias_mapping_primeKG.pkl', 'wb') as fp:\n",
    "        pickle.dump(dict_gene_alias_mapping_primeKG,fp)"
   ]
  }
 ],
 "metadata": {
  "kernelspec": {
   "display_name": "Python 3 (ipykernel)",
   "language": "python",
   "name": "python3"
  },
  "language_info": {
   "codemirror_mode": {
    "name": "ipython",
    "version": 3
   },
   "file_extension": ".py",
   "mimetype": "text/x-python",
   "name": "python",
   "nbconvert_exporter": "python",
   "pygments_lexer": "ipython3",
   "version": "3.8.2"
  }
 },
 "nbformat": 4,
 "nbformat_minor": 5
}
